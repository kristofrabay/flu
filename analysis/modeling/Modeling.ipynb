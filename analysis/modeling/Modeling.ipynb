{
 "cells": [
  {
   "cell_type": "code",
   "execution_count": 2,
   "metadata": {},
   "outputs": [],
   "source": [
    "import pandas as pd\n",
    "import numpy as np\n",
    "\n",
    "from sklearn.metrics import log_loss, roc_auc_score\n",
    "from sklearn.model_selection import train_test_split, GridSearchCV\n",
    "\n",
    "from xgboost import XGBClassifier\n",
    "from lightgbm import LGBMClassifier\n",
    "from catboost import CatBoostClassifier\n",
    "\n",
    "import time\n",
    "import pickle\n",
    "import warnings\n",
    "warnings.filterwarnings('ignore')\n",
    "\n",
    "def evaluate_model(model_name, model, X, y):\n",
    "    \n",
    "    predictions_probas = model.predict_proba(X)[:,1]\n",
    "\n",
    "    AUC = roc_auc_score(y, predictions_probas)\n",
    "    LogLoss = log_loss(y, predictions_probas)\n",
    "\n",
    "    print('AUC for', model_name, ': %1.4f' % AUC)\n",
    "    print('LogLoss for', model_name, ': %1.3f' % LogLoss)\n",
    "\n",
    "    metrics_table = pd.DataFrame({'AUC' : [round(AUC, 4)], 'LogLoss' : [round(LogLoss, 3)]}, index = [model_name])\n",
    "    \n",
    "    return metrics_table"
   ]
  },
  {
   "cell_type": "markdown",
   "metadata": {},
   "source": [
    "## Modeling the h1n1 and seasonal flu shots\n",
    "I have 2 target features\n",
    "1. h1n1 vaccination\n",
    "2. seasonal vaccination\n",
    "\n",
    "For now, both target variables will be predicted by the same underlying X features.\n",
    "As most of my features are categorical / binary variables, my goal is to build 4 models, then stack them\n",
    "1. CatBoost on original (not one hot encoded) dataset\n",
    "2. LightGBM on original (not one hot encoded) dataset by setting categorical features\n",
    "3. xgBoost with ratings as encoded categories\n",
    "4. xgBoost with ratings as continuous numerics\n",
    "4. LightGbm with ratings as continuous numerics\n",
    "\n",
    "### #1: CatBoost"
   ]
  },
  {
   "cell_type": "markdown",
   "metadata": {},
   "source": [
    "#### H1N1"
   ]
  },
  {
   "cell_type": "code",
   "execution_count": 48,
   "metadata": {},
   "outputs": [
    {
     "name": "stdout",
     "output_type": "stream",
     "text": [
      "Original shape: (26707, 34)\n",
      "X shape: (26707, 33)\n",
      "y shape: (26707,)\n"
     ]
    }
   ],
   "source": [
    "h1n1_cat = pd.read_csv('../../data/h1n1_catboost.csv')\n",
    "\n",
    "X_catboost = h1n1_cat.drop(['h1n1_vaccine'], 1)\n",
    "y_catboost = h1n1_cat['h1n1_vaccine'].copy()\n",
    "\n",
    "print('Original shape:', h1n1_cat.shape)\n",
    "print('X shape:', X_catboost.shape)\n",
    "print('y shape:', y_catboost.shape)"
   ]
  },
  {
   "cell_type": "code",
   "execution_count": 25,
   "metadata": {},
   "outputs": [],
   "source": [
    "def catboost_prepare(X):\n",
    "    \n",
    "    for col in X.dtypes[X.dtypes == 'float64'].index.tolist():\n",
    "        X[col] = X[col].astype(pd.Int64Dtype()).astype('O')\n",
    "\n",
    "    for col in X.columns.tolist():\n",
    "        X[col] = X[col].fillna('None')\n",
    "        \n",
    "    return X"
   ]
  },
  {
   "cell_type": "code",
   "execution_count": 50,
   "metadata": {},
   "outputs": [],
   "source": [
    "X_catboost = catboost_prepare(X_catboost)"
   ]
  },
  {
   "cell_type": "code",
   "execution_count": 51,
   "metadata": {},
   "outputs": [],
   "source": [
    "X_cat_train, X_cat_test, y_cat_train, y_cat_test = train_test_split(X_catboost, y_catboost, test_size = 0.2, random_state = 20202020)"
   ]
  },
  {
   "cell_type": "code",
   "execution_count": 52,
   "metadata": {},
   "outputs": [
    {
     "name": "stdout",
     "output_type": "stream",
     "text": [
      "Started at Fri Feb  5 17:44:46 2021\n",
      "Ended at Fri Feb  5 17:45:44 2021\n",
      "0.9783220132191975 minutes\n"
     ]
    }
   ],
   "source": [
    "start = time.time()\n",
    "print(\"Started at\", str(time.ctime(int(start))))\n",
    "\n",
    "cat_params = {'learning_rate': [0.1],\n",
    "              'l2_leaf_reg': [0.5],\n",
    "              'subsample': [0.75],\n",
    "              'rsm' : [2/3],\n",
    "              'max_depth': [9], # up to 16 (8 on gpu)\n",
    "              'grow_policy': ['Lossguide'],\n",
    "              'min_data_in_leaf' : [23], \n",
    "              'max_leaves' : [23],\n",
    "              'iterations' : [100]} \n",
    "\n",
    "cat = CatBoostClassifier(random_state = 20202020, verbose = 0,\n",
    "                         eval_metric = 'AUC:hints=skip_train~false', objective = 'Logloss',\n",
    "                         cat_features = X_catboost.columns.tolist())\n",
    "\n",
    "GRID_cat = GridSearchCV(cat, param_grid = cat_params, cv = 5, scoring = 'roc_auc', n_jobs = -1)\n",
    "\n",
    "GRID_cat.fit(X_cat_train, y_cat_train)\n",
    "\n",
    "print(\"Ended at\", str(time.ctime(int(time.time()))))\n",
    "print((time.time() - start) / 60, 'minutes')"
   ]
  },
  {
   "cell_type": "code",
   "execution_count": 53,
   "metadata": {},
   "outputs": [
    {
     "name": "stdout",
     "output_type": "stream",
     "text": [
      "AUC for CatBoost h1n1 : 0.8674\n",
      "LogLoss for CatBoost h1n1 : 0.345\n"
     ]
    },
    {
     "data": {
      "text/html": [
       "<div>\n",
       "<style scoped>\n",
       "    .dataframe tbody tr th:only-of-type {\n",
       "        vertical-align: middle;\n",
       "    }\n",
       "\n",
       "    .dataframe tbody tr th {\n",
       "        vertical-align: top;\n",
       "    }\n",
       "\n",
       "    .dataframe thead th {\n",
       "        text-align: right;\n",
       "    }\n",
       "</style>\n",
       "<table border=\"1\" class=\"dataframe\">\n",
       "  <thead>\n",
       "    <tr style=\"text-align: right;\">\n",
       "      <th></th>\n",
       "      <th>AUC</th>\n",
       "      <th>LogLoss</th>\n",
       "    </tr>\n",
       "  </thead>\n",
       "  <tbody>\n",
       "    <tr>\n",
       "      <th>CatBoost h1n1</th>\n",
       "      <td>0.8674</td>\n",
       "      <td>0.345</td>\n",
       "    </tr>\n",
       "  </tbody>\n",
       "</table>\n",
       "</div>"
      ],
      "text/plain": [
       "                  AUC  LogLoss\n",
       "CatBoost h1n1  0.8674    0.345"
      ]
     },
     "execution_count": 53,
     "metadata": {},
     "output_type": "execute_result"
    }
   ],
   "source": [
    "evaluate_model('CatBoost h1n1', GRID_cat.best_estimator_, X_cat_test, y_cat_test)"
   ]
  },
  {
   "cell_type": "code",
   "execution_count": 54,
   "metadata": {},
   "outputs": [],
   "source": [
    "model_filename = 'models/h1n1_catboost.pkl'\n",
    "with open(model_filename, 'wb') as file:\n",
    "    pickle.dump(GRID_cat.best_estimator_, file)"
   ]
  },
  {
   "cell_type": "code",
   "execution_count": null,
   "metadata": {},
   "outputs": [],
   "source": []
  },
  {
   "cell_type": "code",
   "execution_count": null,
   "metadata": {},
   "outputs": [],
   "source": []
  },
  {
   "cell_type": "markdown",
   "metadata": {},
   "source": [
    "#### Seasonal"
   ]
  },
  {
   "cell_type": "code",
   "execution_count": 26,
   "metadata": {},
   "outputs": [
    {
     "name": "stdout",
     "output_type": "stream",
     "text": [
      "Original shape: (26707, 34)\n",
      "X shape: (26707, 33)\n",
      "y shape: (26707,)\n"
     ]
    }
   ],
   "source": [
    "seasonal_cat = pd.read_csv('../../data/seasonal_catboost.csv')\n",
    "\n",
    "X_catboost = seasonal_cat.drop(['seasonal_vaccine'], 1)\n",
    "y_catboost = seasonal_cat['seasonal_vaccine'].copy()\n",
    "\n",
    "print('Original shape:', seasonal_cat.shape)\n",
    "print('X shape:', X_catboost.shape)\n",
    "print('y shape:', y_catboost.shape)"
   ]
  },
  {
   "cell_type": "code",
   "execution_count": 27,
   "metadata": {},
   "outputs": [],
   "source": [
    "X_catboost = catboost_prepare(X_catboost)"
   ]
  },
  {
   "cell_type": "code",
   "execution_count": 28,
   "metadata": {},
   "outputs": [],
   "source": [
    "X_cat_train, X_cat_test, y_cat_train, y_cat_test = train_test_split(X_catboost, y_catboost, test_size = 0.2, random_state = 20202020)"
   ]
  },
  {
   "cell_type": "code",
   "execution_count": 41,
   "metadata": {},
   "outputs": [
    {
     "name": "stdout",
     "output_type": "stream",
     "text": [
      "Started at Sat Feb  6 12:12:14 2021\n",
      "Ended at Sat Feb  6 12:13:59 2021\n",
      "1.7597556352615356 minutes\n"
     ]
    }
   ],
   "source": [
    "start = time.time()\n",
    "print(\"Started at\", str(time.ctime(int(start))))\n",
    "\n",
    "cat_params = {'learning_rate': [0.1],\n",
    "              'l2_leaf_reg': [0.5],\n",
    "              'subsample': [0.75],\n",
    "              'rsm' : [2/3],\n",
    "              'max_depth': [9], # up to 16 (8 on gpu)\n",
    "              'grow_policy': ['Lossguide'],\n",
    "              'min_data_in_leaf' : [23], \n",
    "              'max_leaves' : [17],\n",
    "              'iterations' : [250]}\n",
    "\n",
    "cat = CatBoostClassifier(random_state = 20202020, verbose = 0,\n",
    "                         eval_metric = 'AUC:hints=skip_train~false', objective = 'Logloss',\n",
    "                         cat_features = X_catboost.columns.tolist())\n",
    "\n",
    "GRID_cat_seasonal = GridSearchCV(cat, param_grid = cat_params, cv = 5, scoring = 'roc_auc', n_jobs = -1)\n",
    "\n",
    "GRID_cat_seasonal.fit(X_cat_train, y_cat_train)\n",
    "\n",
    "print(\"Ended at\", str(time.ctime(int(time.time()))))\n",
    "print((time.time() - start) / 60, 'minutes')"
   ]
  },
  {
   "cell_type": "code",
   "execution_count": 42,
   "metadata": {},
   "outputs": [
    {
     "name": "stdout",
     "output_type": "stream",
     "text": [
      "AUC for CatBoost seasonal : 0.8614\n",
      "LogLoss for CatBoost seasonal : 0.463\n"
     ]
    },
    {
     "data": {
      "text/html": [
       "<div>\n",
       "<style scoped>\n",
       "    .dataframe tbody tr th:only-of-type {\n",
       "        vertical-align: middle;\n",
       "    }\n",
       "\n",
       "    .dataframe tbody tr th {\n",
       "        vertical-align: top;\n",
       "    }\n",
       "\n",
       "    .dataframe thead th {\n",
       "        text-align: right;\n",
       "    }\n",
       "</style>\n",
       "<table border=\"1\" class=\"dataframe\">\n",
       "  <thead>\n",
       "    <tr style=\"text-align: right;\">\n",
       "      <th></th>\n",
       "      <th>AUC</th>\n",
       "      <th>LogLoss</th>\n",
       "    </tr>\n",
       "  </thead>\n",
       "  <tbody>\n",
       "    <tr>\n",
       "      <th>CatBoost seasonal</th>\n",
       "      <td>0.8614</td>\n",
       "      <td>0.463</td>\n",
       "    </tr>\n",
       "  </tbody>\n",
       "</table>\n",
       "</div>"
      ],
      "text/plain": [
       "                      AUC  LogLoss\n",
       "CatBoost seasonal  0.8614    0.463"
      ]
     },
     "execution_count": 42,
     "metadata": {},
     "output_type": "execute_result"
    }
   ],
   "source": [
    "evaluate_model('CatBoost seasonal', GRID_cat_seasonal.best_estimator_, X_cat_test, y_cat_test)"
   ]
  },
  {
   "cell_type": "code",
   "execution_count": 43,
   "metadata": {},
   "outputs": [],
   "source": [
    "model_filename = 'models/seasonal_catboost.pkl'\n",
    "with open(model_filename, 'wb') as file:\n",
    "    pickle.dump(GRID_cat_seasonal.best_estimator_, file)"
   ]
  },
  {
   "cell_type": "code",
   "execution_count": null,
   "metadata": {},
   "outputs": [],
   "source": []
  },
  {
   "cell_type": "markdown",
   "metadata": {},
   "source": [
    "#### Make test predictions with CatBoost"
   ]
  },
  {
   "cell_type": "code",
   "execution_count": 61,
   "metadata": {},
   "outputs": [],
   "source": [
    "test = pd.read_csv('../../data/originals/test_catboost.csv')\n",
    "respondent_id = test['respondent_id'].copy()\n",
    "test.drop(['respondent_id'], 1, inplace = True)\n",
    "\n",
    "test = catboost_prepare(test)"
   ]
  },
  {
   "cell_type": "code",
   "execution_count": 62,
   "metadata": {},
   "outputs": [
    {
     "data": {
      "text/html": [
       "<div>\n",
       "<style scoped>\n",
       "    .dataframe tbody tr th:only-of-type {\n",
       "        vertical-align: middle;\n",
       "    }\n",
       "\n",
       "    .dataframe tbody tr th {\n",
       "        vertical-align: top;\n",
       "    }\n",
       "\n",
       "    .dataframe thead th {\n",
       "        text-align: right;\n",
       "    }\n",
       "</style>\n",
       "<table border=\"1\" class=\"dataframe\">\n",
       "  <thead>\n",
       "    <tr style=\"text-align: right;\">\n",
       "      <th></th>\n",
       "      <th>respondent_id</th>\n",
       "      <th>h1n1_vaccine</th>\n",
       "      <th>seasonal_vaccine</th>\n",
       "    </tr>\n",
       "  </thead>\n",
       "  <tbody>\n",
       "    <tr>\n",
       "      <th>0</th>\n",
       "      <td>26707</td>\n",
       "      <td>0.121296</td>\n",
       "      <td>0.191064</td>\n",
       "    </tr>\n",
       "    <tr>\n",
       "      <th>1</th>\n",
       "      <td>26708</td>\n",
       "      <td>0.041142</td>\n",
       "      <td>0.050702</td>\n",
       "    </tr>\n",
       "    <tr>\n",
       "      <th>2</th>\n",
       "      <td>26709</td>\n",
       "      <td>0.147760</td>\n",
       "      <td>0.746198</td>\n",
       "    </tr>\n",
       "    <tr>\n",
       "      <th>3</th>\n",
       "      <td>26710</td>\n",
       "      <td>0.620204</td>\n",
       "      <td>0.904706</td>\n",
       "    </tr>\n",
       "    <tr>\n",
       "      <th>4</th>\n",
       "      <td>26711</td>\n",
       "      <td>0.362429</td>\n",
       "      <td>0.567235</td>\n",
       "    </tr>\n",
       "  </tbody>\n",
       "</table>\n",
       "</div>"
      ],
      "text/plain": [
       "   respondent_id  h1n1_vaccine  seasonal_vaccine\n",
       "0          26707      0.121296          0.191064\n",
       "1          26708      0.041142          0.050702\n",
       "2          26709      0.147760          0.746198\n",
       "3          26710      0.620204          0.904706\n",
       "4          26711      0.362429          0.567235"
      ]
     },
     "execution_count": 62,
     "metadata": {},
     "output_type": "execute_result"
    }
   ],
   "source": [
    "submission = pd.DataFrame(respondent_id)\n",
    "submission['h1n1_vaccine'] = GRID_cat.best_estimator_.predict_proba(test)[:,1]\n",
    "submission['seasonal_vaccine'] = GRID_cat_seasonal.best_estimator_.predict_proba(test)[:,1]\n",
    "\n",
    "submission.head()"
   ]
  },
  {
   "cell_type": "code",
   "execution_count": 63,
   "metadata": {},
   "outputs": [],
   "source": [
    "submission.to_csv('../../data/submissions/first_submission_catboost.csv', index = False)"
   ]
  },
  {
   "cell_type": "code",
   "execution_count": null,
   "metadata": {},
   "outputs": [],
   "source": []
  },
  {
   "cell_type": "code",
   "execution_count": null,
   "metadata": {},
   "outputs": [],
   "source": []
  },
  {
   "cell_type": "markdown",
   "metadata": {},
   "source": [
    "### #2: LightGBM using categorical features"
   ]
  },
  {
   "cell_type": "markdown",
   "metadata": {},
   "source": [
    "#### H1N1"
   ]
  },
  {
   "cell_type": "code",
   "execution_count": 64,
   "metadata": {},
   "outputs": [
    {
     "name": "stdout",
     "output_type": "stream",
     "text": [
      "Original shape: (26707, 34)\n",
      "X shape: (26707, 33)\n",
      "y shape: (26707,)\n"
     ]
    }
   ],
   "source": [
    "h1n1_cat = pd.read_csv('../../data/h1n1_catboost.csv')\n",
    "\n",
    "X_lgb = h1n1_cat.drop(['h1n1_vaccine'], 1)\n",
    "y_lgb = h1n1_cat['h1n1_vaccine'].copy()\n",
    "\n",
    "print('Original shape:', h1n1_cat.shape)\n",
    "print('X shape:', X_lgb.shape)\n",
    "print('y shape:', y_lgb.shape)"
   ]
  },
  {
   "cell_type": "code",
   "execution_count": 65,
   "metadata": {},
   "outputs": [],
   "source": [
    "def lgb_cat_prepare(X):\n",
    "    \n",
    "    for col in X.dtypes[X.dtypes == 'object'].index.tolist():\n",
    "        X[col] = X[col].fillna('None')\n",
    "\n",
    "    for col in X.dtypes[X.dtypes == 'float64'].index.tolist():\n",
    "        X[col] = X[col].fillna(-1).astype(pd.Int64Dtype())\n",
    "\n",
    "    for col in X.columns.tolist():\n",
    "        X[col] = X[col].astype('category')\n",
    "        \n",
    "    return X"
   ]
  },
  {
   "cell_type": "code",
   "execution_count": 66,
   "metadata": {},
   "outputs": [],
   "source": [
    "X_lgb = lgb_cat_prepare(X_lgb)"
   ]
  },
  {
   "cell_type": "code",
   "execution_count": 67,
   "metadata": {},
   "outputs": [],
   "source": [
    "X_lgb_train, X_lgb_test, y_lgb_train, y_lgb_test = train_test_split(X_lgb, y_lgb, test_size = 0.2, random_state = 20202020)"
   ]
  },
  {
   "cell_type": "code",
   "execution_count": 68,
   "metadata": {},
   "outputs": [
    {
     "name": "stdout",
     "output_type": "stream",
     "text": [
      "Started at Fri Feb  5 17:48:20 2021\n",
      "Ended at Fri Feb  5 17:49:08 2021\n",
      "0.7993542154630026 minutes\n"
     ]
    }
   ],
   "source": [
    "start = time.time()\n",
    "print(\"Started at\", str(time.ctime(int(start))))\n",
    "\n",
    "LGB_params = {'boosting_type' : ['dart'],  \n",
    "              'learning_rate' : [0.05],\n",
    "              'num_leaves' : [35],\n",
    "              'min_child_samples' : [1],\n",
    "              'max_depth' : [25],\n",
    "              'subsample' : [1],\n",
    "              'colsample_bytree' : [0.8],\n",
    "              'n_estimators' : [500]}\n",
    "\n",
    "LGB = LGBMClassifier(random_state = 20202020, objective = 'binary', metric = 'auc')\n",
    "\n",
    "GRID_LGB_h1n1 = GridSearchCV(LGB, param_grid = LGB_params, cv = 5, scoring = 'roc_auc', n_jobs = -1)\n",
    "\n",
    "# lgb_categoricals = X_lgb_train.columns.tolist()\n",
    "GRID_LGB_h1n1.fit(X_lgb_train, y_lgb_train) # categorical_feature = lgb_categoricals\n",
    "\n",
    "print(\"Ended at\", str(time.ctime(int(time.time()))))\n",
    "print((time.time() - start) / 60, 'minutes')"
   ]
  },
  {
   "cell_type": "code",
   "execution_count": 69,
   "metadata": {},
   "outputs": [
    {
     "name": "stdout",
     "output_type": "stream",
     "text": [
      "AUC for LightGBM h1n1 with categoricals : 0.8673\n",
      "LogLoss for LightGBM h1n1 with categoricals : 0.347\n"
     ]
    },
    {
     "data": {
      "text/html": [
       "<div>\n",
       "<style scoped>\n",
       "    .dataframe tbody tr th:only-of-type {\n",
       "        vertical-align: middle;\n",
       "    }\n",
       "\n",
       "    .dataframe tbody tr th {\n",
       "        vertical-align: top;\n",
       "    }\n",
       "\n",
       "    .dataframe thead th {\n",
       "        text-align: right;\n",
       "    }\n",
       "</style>\n",
       "<table border=\"1\" class=\"dataframe\">\n",
       "  <thead>\n",
       "    <tr style=\"text-align: right;\">\n",
       "      <th></th>\n",
       "      <th>AUC</th>\n",
       "      <th>LogLoss</th>\n",
       "    </tr>\n",
       "  </thead>\n",
       "  <tbody>\n",
       "    <tr>\n",
       "      <th>LightGBM h1n1 with categoricals</th>\n",
       "      <td>0.8673</td>\n",
       "      <td>0.347</td>\n",
       "    </tr>\n",
       "  </tbody>\n",
       "</table>\n",
       "</div>"
      ],
      "text/plain": [
       "                                    AUC  LogLoss\n",
       "LightGBM h1n1 with categoricals  0.8673    0.347"
      ]
     },
     "execution_count": 69,
     "metadata": {},
     "output_type": "execute_result"
    }
   ],
   "source": [
    "evaluate_model('LightGBM h1n1 with categoricals', GRID_LGB_h1n1.best_estimator_, X_lgb_test, y_lgb_test)"
   ]
  },
  {
   "cell_type": "code",
   "execution_count": 70,
   "metadata": {},
   "outputs": [],
   "source": [
    "model_filename = 'models/h1n1_lighgbm_categoricals.pkl'\n",
    "with open(model_filename, 'wb') as file:\n",
    "    pickle.dump(GRID_LGB_h1n1.best_estimator_, file)"
   ]
  },
  {
   "cell_type": "code",
   "execution_count": null,
   "metadata": {},
   "outputs": [],
   "source": []
  },
  {
   "cell_type": "markdown",
   "metadata": {},
   "source": [
    "#### Seasonal"
   ]
  },
  {
   "cell_type": "code",
   "execution_count": 71,
   "metadata": {},
   "outputs": [
    {
     "name": "stdout",
     "output_type": "stream",
     "text": [
      "Original shape: (26707, 34)\n",
      "X shape: (26707, 33)\n",
      "y shape: (26707,)\n"
     ]
    }
   ],
   "source": [
    "seasonal_cat = pd.read_csv('../../data/seasonal_catboost.csv')\n",
    "\n",
    "X_lgb = seasonal_cat.drop(['seasonal_vaccine'], 1)\n",
    "y_lgb = seasonal_cat['seasonal_vaccine'].copy()\n",
    "\n",
    "print('Original shape:', seasonal_cat.shape)\n",
    "print('X shape:', X_lgb.shape)\n",
    "print('y shape:', y_lgb.shape)"
   ]
  },
  {
   "cell_type": "code",
   "execution_count": 72,
   "metadata": {},
   "outputs": [],
   "source": [
    "X_lgb = lgb_cat_prepare(X_lgb)"
   ]
  },
  {
   "cell_type": "code",
   "execution_count": 73,
   "metadata": {},
   "outputs": [],
   "source": [
    "X_lgb_train, X_lgb_test, y_lgb_train, y_lgb_test = train_test_split(X_lgb, y_lgb, test_size = 0.2, random_state = 20202020)"
   ]
  },
  {
   "cell_type": "code",
   "execution_count": 74,
   "metadata": {},
   "outputs": [
    {
     "name": "stdout",
     "output_type": "stream",
     "text": [
      "Started at Fri Feb  5 17:49:42 2021\n",
      "Ended at Fri Feb  5 17:49:44 2021\n",
      "0.04388338724772135 minutes\n"
     ]
    }
   ],
   "source": [
    "start = time.time()\n",
    "print(\"Started at\", str(time.ctime(int(start))))\n",
    "\n",
    "LGB_params = {'boosting_type' : ['gbdt'], \n",
    "              'learning_rate' : [0.05],\n",
    "              'num_leaves' : [25],\n",
    "              'min_child_samples' : [1],\n",
    "              'max_depth' : [13],\n",
    "              'subsample' : [1],\n",
    "              'colsample_bytree' : [1/2],\n",
    "              'n_estimators' : [200]}\n",
    "\n",
    "LGB = LGBMClassifier(random_state = 20202020, objective = 'binary', metric = 'auc')\n",
    "\n",
    "GRID_LGB_seasonal = GridSearchCV(LGB, param_grid = LGB_params, cv = 5, scoring = 'roc_auc', n_jobs = -1)\n",
    "\n",
    "# lgb_categoricals = X_lgb_train.columns.tolist()\n",
    "GRID_LGB_seasonal.fit(X_lgb_train, y_lgb_train) # categorical_feature = lgb_categoricals\n",
    "\n",
    "print(\"Ended at\", str(time.ctime(int(time.time()))))\n",
    "print((time.time() - start) / 60, 'minutes')"
   ]
  },
  {
   "cell_type": "code",
   "execution_count": 75,
   "metadata": {},
   "outputs": [
    {
     "name": "stdout",
     "output_type": "stream",
     "text": [
      "AUC for LightGBM seasonal with categoricals : 0.8617\n",
      "LogLoss for LightGBM seasonal with categoricals : 0.463\n"
     ]
    },
    {
     "data": {
      "text/html": [
       "<div>\n",
       "<style scoped>\n",
       "    .dataframe tbody tr th:only-of-type {\n",
       "        vertical-align: middle;\n",
       "    }\n",
       "\n",
       "    .dataframe tbody tr th {\n",
       "        vertical-align: top;\n",
       "    }\n",
       "\n",
       "    .dataframe thead th {\n",
       "        text-align: right;\n",
       "    }\n",
       "</style>\n",
       "<table border=\"1\" class=\"dataframe\">\n",
       "  <thead>\n",
       "    <tr style=\"text-align: right;\">\n",
       "      <th></th>\n",
       "      <th>AUC</th>\n",
       "      <th>LogLoss</th>\n",
       "    </tr>\n",
       "  </thead>\n",
       "  <tbody>\n",
       "    <tr>\n",
       "      <th>LightGBM seasonal with categoricals</th>\n",
       "      <td>0.8617</td>\n",
       "      <td>0.463</td>\n",
       "    </tr>\n",
       "  </tbody>\n",
       "</table>\n",
       "</div>"
      ],
      "text/plain": [
       "                                        AUC  LogLoss\n",
       "LightGBM seasonal with categoricals  0.8617    0.463"
      ]
     },
     "execution_count": 75,
     "metadata": {},
     "output_type": "execute_result"
    }
   ],
   "source": [
    "evaluate_model('LightGBM seasonal with categoricals', GRID_LGB_seasonal.best_estimator_, X_lgb_test, y_lgb_test)"
   ]
  },
  {
   "cell_type": "code",
   "execution_count": 76,
   "metadata": {},
   "outputs": [],
   "source": [
    "model_filename = 'models/seasonal_lighgbm_categoricals.pkl'\n",
    "with open(model_filename, 'wb') as file:\n",
    "    pickle.dump(GRID_LGB_seasonal.best_estimator_, file)"
   ]
  },
  {
   "cell_type": "code",
   "execution_count": null,
   "metadata": {},
   "outputs": [],
   "source": []
  },
  {
   "cell_type": "markdown",
   "metadata": {},
   "source": [
    "#### Make test predictions with LightGBM (with categorical features instead of one-hot encoding)"
   ]
  },
  {
   "cell_type": "code",
   "execution_count": 77,
   "metadata": {},
   "outputs": [],
   "source": [
    "test = pd.read_csv('../../data/originals/test_catboost.csv')\n",
    "respondent_id = test['respondent_id'].copy()\n",
    "test.drop(['respondent_id'], 1, inplace = True)\n",
    "\n",
    "test = lgb_cat_prepare(test)"
   ]
  },
  {
   "cell_type": "code",
   "execution_count": 78,
   "metadata": {},
   "outputs": [
    {
     "data": {
      "text/html": [
       "<div>\n",
       "<style scoped>\n",
       "    .dataframe tbody tr th:only-of-type {\n",
       "        vertical-align: middle;\n",
       "    }\n",
       "\n",
       "    .dataframe tbody tr th {\n",
       "        vertical-align: top;\n",
       "    }\n",
       "\n",
       "    .dataframe thead th {\n",
       "        text-align: right;\n",
       "    }\n",
       "</style>\n",
       "<table border=\"1\" class=\"dataframe\">\n",
       "  <thead>\n",
       "    <tr style=\"text-align: right;\">\n",
       "      <th></th>\n",
       "      <th>respondent_id</th>\n",
       "      <th>h1n1_vaccine</th>\n",
       "      <th>seasonal_vaccine</th>\n",
       "    </tr>\n",
       "  </thead>\n",
       "  <tbody>\n",
       "    <tr>\n",
       "      <th>0</th>\n",
       "      <td>26707</td>\n",
       "      <td>0.155108</td>\n",
       "      <td>0.268159</td>\n",
       "    </tr>\n",
       "    <tr>\n",
       "      <th>1</th>\n",
       "      <td>26708</td>\n",
       "      <td>0.075113</td>\n",
       "      <td>0.033132</td>\n",
       "    </tr>\n",
       "    <tr>\n",
       "      <th>2</th>\n",
       "      <td>26709</td>\n",
       "      <td>0.212651</td>\n",
       "      <td>0.714583</td>\n",
       "    </tr>\n",
       "    <tr>\n",
       "      <th>3</th>\n",
       "      <td>26710</td>\n",
       "      <td>0.671908</td>\n",
       "      <td>0.902284</td>\n",
       "    </tr>\n",
       "    <tr>\n",
       "      <th>4</th>\n",
       "      <td>26711</td>\n",
       "      <td>0.378022</td>\n",
       "      <td>0.397910</td>\n",
       "    </tr>\n",
       "  </tbody>\n",
       "</table>\n",
       "</div>"
      ],
      "text/plain": [
       "   respondent_id  h1n1_vaccine  seasonal_vaccine\n",
       "0          26707      0.155108          0.268159\n",
       "1          26708      0.075113          0.033132\n",
       "2          26709      0.212651          0.714583\n",
       "3          26710      0.671908          0.902284\n",
       "4          26711      0.378022          0.397910"
      ]
     },
     "execution_count": 78,
     "metadata": {},
     "output_type": "execute_result"
    }
   ],
   "source": [
    "submission = pd.DataFrame(respondent_id)\n",
    "submission['h1n1_vaccine'] = GRID_LGB_h1n1.best_estimator_.predict_proba(test)[:,1]\n",
    "submission['seasonal_vaccine'] = GRID_LGB_seasonal.best_estimator_.predict_proba(test)[:,1]\n",
    "\n",
    "submission.head()"
   ]
  },
  {
   "cell_type": "code",
   "execution_count": 79,
   "metadata": {},
   "outputs": [],
   "source": [
    "submission.to_csv('../../data/submissions/first_submission_lightgbm.csv', index = False)"
   ]
  },
  {
   "cell_type": "code",
   "execution_count": null,
   "metadata": {},
   "outputs": [],
   "source": []
  },
  {
   "cell_type": "code",
   "execution_count": null,
   "metadata": {},
   "outputs": [],
   "source": []
  },
  {
   "cell_type": "markdown",
   "metadata": {},
   "source": [
    "### #3: xgBoost with encoding int features as categories"
   ]
  },
  {
   "cell_type": "markdown",
   "metadata": {},
   "source": [
    "#### H1N1"
   ]
  },
  {
   "cell_type": "code",
   "execution_count": 98,
   "metadata": {},
   "outputs": [
    {
     "name": "stdout",
     "output_type": "stream",
     "text": [
      "Original shape: (26707, 59)\n",
      "X shape: (26707, 58)\n",
      "y shape: (26707,)\n"
     ]
    }
   ],
   "source": [
    "h1n1 = pd.read_csv('../../data/h1n1_encoded.csv')\n",
    "\n",
    "X = h1n1.drop(['h1n1_vaccine'], 1)\n",
    "y = h1n1['h1n1_vaccine'].copy()\n",
    "\n",
    "print('Original shape:', h1n1.shape)\n",
    "print('X shape:', X.shape)\n",
    "print('y shape:', y.shape)"
   ]
  },
  {
   "cell_type": "code",
   "execution_count": 99,
   "metadata": {},
   "outputs": [],
   "source": [
    "def xgb_encoded_prepare(X_):\n",
    "    \n",
    "    X = X_.copy()\n",
    "    \n",
    "    for col in X.dtypes[X.dtypes == 'float64'].index.tolist():\n",
    "        X[col] = X[col].astype(pd.Int64Dtype())\n",
    "        \n",
    "    to_encode = ['h1n1_concern', 'h1n1_knowledge', 'opinion_h1n1_vacc_effective', 'opinion_h1n1_risk',\n",
    "                 'opinion_h1n1_sick_from_vacc', 'opinion_seas_vacc_effective', 'opinion_seas_risk', \n",
    "                 'opinion_seas_sick_from_vacc']\n",
    "\n",
    "    X = pd.get_dummies(X, prefix_sep = ' = ', columns = to_encode)\n",
    "    \n",
    "    to_float = ['behavioral_antiviral_meds', 'behavioral_avoidance', 'behavioral_face_mask', \n",
    "                'behavioral_wash_hands', 'behavioral_large_gatherings', 'behavioral_outside_home', \n",
    "                'behavioral_touch_face', 'doctor_recc_h1n1', 'doctor_recc_seasonal', 'chronic_med_condition', \n",
    "                'child_under_6_months', 'health_worker', 'health_insurance', 'household_adults', \n",
    "                'household_children', 'marital_status_married', 'rent_or_own_own']\n",
    "    \n",
    "    for col in to_float:\n",
    "        X[col] = X[col].astype(float)\n",
    "        \n",
    "    X.columns = [col_name.replace('<', 'smaller_than').replace(',', '') for col_name in X.columns.tolist()]\n",
    "    \n",
    "    return X"
   ]
  },
  {
   "cell_type": "code",
   "execution_count": 100,
   "metadata": {},
   "outputs": [],
   "source": [
    "X = xgb_encoded_prepare(X)"
   ]
  },
  {
   "cell_type": "code",
   "execution_count": 151,
   "metadata": {},
   "outputs": [],
   "source": [
    "X_xgb_train, X_xgb_test, y_xgb_train, y_xgb_test = train_test_split(X, y, test_size = 0.2, random_state = 20202020)"
   ]
  },
  {
   "cell_type": "code",
   "execution_count": 173,
   "metadata": {},
   "outputs": [
    {
     "name": "stdout",
     "output_type": "stream",
     "text": [
      "Started at Fri Feb  5 20:40:40 2021\n",
      "Ended at Fri Feb  5 20:41:41 2021\n",
      "1.028653367360433 minutes\n"
     ]
    }
   ],
   "source": [
    "start = time.time()\n",
    "print(\"Started at\", str(time.ctime(int(start))))\n",
    "\n",
    "XGB_params = {'eta' : [0.05],\n",
    "              'gamma' : [2],\n",
    "              'subsample' : [1],\n",
    "              'colsample_bytree' : [2/3],\n",
    "              'colsample_bynode' : [3/4],\n",
    "              'max_depth' : [21],\n",
    "              'min_child_weight' : [1],\n",
    "              'n_estimators' : [100]}\n",
    "\n",
    "XGB = XGBClassifier(random_state = 20202020, verbosity = 0, objective = 'binary:logistic', eval_metric = 'auc')\n",
    "\n",
    "GRID_XGB_h1n1_encoded = GridSearchCV(XGB, param_grid = XGB_params, cv = 5, scoring = 'roc_auc', n_jobs = -1)\n",
    "\n",
    "GRID_XGB_h1n1_encoded.fit(X_xgb_train, y_xgb_train)\n",
    "\n",
    "print(\"Ended at\", str(time.ctime(int(time.time()))))\n",
    "print((time.time() - start) / 60, 'minutes')"
   ]
  },
  {
   "cell_type": "code",
   "execution_count": 174,
   "metadata": {},
   "outputs": [
    {
     "name": "stdout",
     "output_type": "stream",
     "text": [
      "AUC for xgBoost h1n1 with encoding : 0.8634\n",
      "LogLoss for xgBoost h1n1 with encoding : 0.350\n"
     ]
    },
    {
     "data": {
      "text/html": [
       "<div>\n",
       "<style scoped>\n",
       "    .dataframe tbody tr th:only-of-type {\n",
       "        vertical-align: middle;\n",
       "    }\n",
       "\n",
       "    .dataframe tbody tr th {\n",
       "        vertical-align: top;\n",
       "    }\n",
       "\n",
       "    .dataframe thead th {\n",
       "        text-align: right;\n",
       "    }\n",
       "</style>\n",
       "<table border=\"1\" class=\"dataframe\">\n",
       "  <thead>\n",
       "    <tr style=\"text-align: right;\">\n",
       "      <th></th>\n",
       "      <th>AUC</th>\n",
       "      <th>LogLoss</th>\n",
       "    </tr>\n",
       "  </thead>\n",
       "  <tbody>\n",
       "    <tr>\n",
       "      <th>xgBoost h1n1 with encoding</th>\n",
       "      <td>0.8634</td>\n",
       "      <td>0.35</td>\n",
       "    </tr>\n",
       "  </tbody>\n",
       "</table>\n",
       "</div>"
      ],
      "text/plain": [
       "                               AUC  LogLoss\n",
       "xgBoost h1n1 with encoding  0.8634     0.35"
      ]
     },
     "execution_count": 174,
     "metadata": {},
     "output_type": "execute_result"
    }
   ],
   "source": [
    "evaluate_model('xgBoost h1n1 with encoding', GRID_XGB_h1n1_encoded.best_estimator_, X_xgb_test, y_xgb_test)"
   ]
  },
  {
   "cell_type": "code",
   "execution_count": 175,
   "metadata": {},
   "outputs": [],
   "source": [
    "model_filename = 'models/h1n1_xgb_encoded.pkl'\n",
    "with open(model_filename, 'wb') as file:\n",
    "    pickle.dump(GRID_XGB_h1n1_encoded.best_estimator_, file)"
   ]
  },
  {
   "cell_type": "code",
   "execution_count": null,
   "metadata": {},
   "outputs": [],
   "source": []
  },
  {
   "cell_type": "markdown",
   "metadata": {},
   "source": [
    "#### Seasonal"
   ]
  },
  {
   "cell_type": "code",
   "execution_count": 176,
   "metadata": {},
   "outputs": [
    {
     "name": "stdout",
     "output_type": "stream",
     "text": [
      "Original shape: (26707, 59)\n",
      "X shape: (26707, 58)\n",
      "y shape: (26707,)\n"
     ]
    }
   ],
   "source": [
    "seasonal = pd.read_csv('../../data/seasonal_encoded.csv')\n",
    "\n",
    "X = seasonal.drop(['seasonal_vaccine'], 1)\n",
    "y = seasonal['seasonal_vaccine'].copy()\n",
    "\n",
    "print('Original shape:', seasonal.shape)\n",
    "print('X shape:', X.shape)\n",
    "print('y shape:', y.shape)"
   ]
  },
  {
   "cell_type": "code",
   "execution_count": 177,
   "metadata": {},
   "outputs": [],
   "source": [
    "X = xgb_encoded_prepare(X)"
   ]
  },
  {
   "cell_type": "code",
   "execution_count": 178,
   "metadata": {},
   "outputs": [],
   "source": [
    "X_xgb_train, X_xgb_test, y_xgb_train, y_xgb_test = train_test_split(X, y, test_size = 0.2, random_state = 20202020)"
   ]
  },
  {
   "cell_type": "code",
   "execution_count": 201,
   "metadata": {},
   "outputs": [
    {
     "name": "stdout",
     "output_type": "stream",
     "text": [
      "Started at Fri Feb  5 21:40:30 2021\n",
      "Ended at Fri Feb  5 21:42:44 2021\n",
      "2.243872169653575 minutes\n"
     ]
    }
   ],
   "source": [
    "start = time.time()\n",
    "print(\"Started at\", str(time.ctime(int(start))))\n",
    "\n",
    "XGB_params = {'eta' : [0.01],\n",
    "              'gamma' : [1.5],\n",
    "              'subsample' : [1],\n",
    "              'colsample_bytree' : [2/3],\n",
    "              'colsample_bynode' : [2/3],\n",
    "              'max_depth' : [19],\n",
    "              'min_child_weight' : [1],\n",
    "              'n_estimators' : [250]}\n",
    "\n",
    "XGB = XGBClassifier(random_state = 20202020, verbosity = 0, objective = 'binary:logistic', eval_metric = 'auc')\n",
    "\n",
    "GRID_XGB_seasonal_encoded = GridSearchCV(XGB, param_grid = XGB_params, cv = 5, scoring = 'roc_auc', n_jobs = -1)\n",
    "\n",
    "GRID_XGB_seasonal_encoded.fit(X_xgb_train, y_xgb_train)\n",
    "\n",
    "print(\"Ended at\", str(time.ctime(int(time.time()))))\n",
    "print((time.time() - start) / 60, 'minutes')"
   ]
  },
  {
   "cell_type": "code",
   "execution_count": 203,
   "metadata": {},
   "outputs": [
    {
     "name": "stdout",
     "output_type": "stream",
     "text": [
      "AUC for xgBoost seasonal with encoding : 0.8552\n",
      "LogLoss for xgBoost seasonal with encoding : 0.478\n"
     ]
    },
    {
     "data": {
      "text/html": [
       "<div>\n",
       "<style scoped>\n",
       "    .dataframe tbody tr th:only-of-type {\n",
       "        vertical-align: middle;\n",
       "    }\n",
       "\n",
       "    .dataframe tbody tr th {\n",
       "        vertical-align: top;\n",
       "    }\n",
       "\n",
       "    .dataframe thead th {\n",
       "        text-align: right;\n",
       "    }\n",
       "</style>\n",
       "<table border=\"1\" class=\"dataframe\">\n",
       "  <thead>\n",
       "    <tr style=\"text-align: right;\">\n",
       "      <th></th>\n",
       "      <th>AUC</th>\n",
       "      <th>LogLoss</th>\n",
       "    </tr>\n",
       "  </thead>\n",
       "  <tbody>\n",
       "    <tr>\n",
       "      <th>xgBoost seasonal with encoding</th>\n",
       "      <td>0.8552</td>\n",
       "      <td>0.478</td>\n",
       "    </tr>\n",
       "  </tbody>\n",
       "</table>\n",
       "</div>"
      ],
      "text/plain": [
       "                                   AUC  LogLoss\n",
       "xgBoost seasonal with encoding  0.8552    0.478"
      ]
     },
     "execution_count": 203,
     "metadata": {},
     "output_type": "execute_result"
    }
   ],
   "source": [
    "evaluate_model('xgBoost seasonal with encoding', GRID_XGB_seasonal_encoded.best_estimator_, X_xgb_test, y_xgb_test)"
   ]
  },
  {
   "cell_type": "code",
   "execution_count": 204,
   "metadata": {},
   "outputs": [],
   "source": [
    "model_filename = 'models/seasonal_xgb_encoded.pkl'\n",
    "with open(model_filename, 'wb') as file:\n",
    "    pickle.dump(GRID_XGB_seasonal_encoded.best_estimator_, file)"
   ]
  },
  {
   "cell_type": "code",
   "execution_count": null,
   "metadata": {},
   "outputs": [],
   "source": []
  },
  {
   "cell_type": "markdown",
   "metadata": {},
   "source": [
    "#### Make test predictions with xgBoost"
   ]
  },
  {
   "cell_type": "code",
   "execution_count": 210,
   "metadata": {},
   "outputs": [],
   "source": [
    "test = pd.read_csv('../../data/originals/test_encoded.csv')\n",
    "respondent_id = test['respondent_id'].copy()\n",
    "test.drop(['respondent_id'], 1, inplace = True)\n",
    "\n",
    "test = xgb_encoded_prepare(test)"
   ]
  },
  {
   "cell_type": "code",
   "execution_count": 211,
   "metadata": {},
   "outputs": [
    {
     "data": {
      "text/html": [
       "<div>\n",
       "<style scoped>\n",
       "    .dataframe tbody tr th:only-of-type {\n",
       "        vertical-align: middle;\n",
       "    }\n",
       "\n",
       "    .dataframe tbody tr th {\n",
       "        vertical-align: top;\n",
       "    }\n",
       "\n",
       "    .dataframe thead th {\n",
       "        text-align: right;\n",
       "    }\n",
       "</style>\n",
       "<table border=\"1\" class=\"dataframe\">\n",
       "  <thead>\n",
       "    <tr style=\"text-align: right;\">\n",
       "      <th></th>\n",
       "      <th>respondent_id</th>\n",
       "      <th>h1n1_vaccine</th>\n",
       "      <th>seasonal_vaccine</th>\n",
       "    </tr>\n",
       "  </thead>\n",
       "  <tbody>\n",
       "    <tr>\n",
       "      <th>0</th>\n",
       "      <td>26707</td>\n",
       "      <td>0.095608</td>\n",
       "      <td>0.196756</td>\n",
       "    </tr>\n",
       "    <tr>\n",
       "      <th>1</th>\n",
       "      <td>26708</td>\n",
       "      <td>0.055153</td>\n",
       "      <td>0.079003</td>\n",
       "    </tr>\n",
       "    <tr>\n",
       "      <th>2</th>\n",
       "      <td>26709</td>\n",
       "      <td>0.288272</td>\n",
       "      <td>0.812739</td>\n",
       "    </tr>\n",
       "    <tr>\n",
       "      <th>3</th>\n",
       "      <td>26710</td>\n",
       "      <td>0.672732</td>\n",
       "      <td>0.877807</td>\n",
       "    </tr>\n",
       "    <tr>\n",
       "      <th>4</th>\n",
       "      <td>26711</td>\n",
       "      <td>0.214239</td>\n",
       "      <td>0.518264</td>\n",
       "    </tr>\n",
       "  </tbody>\n",
       "</table>\n",
       "</div>"
      ],
      "text/plain": [
       "   respondent_id  h1n1_vaccine  seasonal_vaccine\n",
       "0          26707      0.095608          0.196756\n",
       "1          26708      0.055153          0.079003\n",
       "2          26709      0.288272          0.812739\n",
       "3          26710      0.672732          0.877807\n",
       "4          26711      0.214239          0.518264"
      ]
     },
     "execution_count": 211,
     "metadata": {},
     "output_type": "execute_result"
    }
   ],
   "source": [
    "submission = pd.DataFrame(respondent_id)\n",
    "submission['h1n1_vaccine'] = GRID_XGB_h1n1_encoded.best_estimator_.predict_proba(test)[:,1]\n",
    "submission['seasonal_vaccine'] = GRID_XGB_seasonal_encoded.best_estimator_.predict_proba(test)[:,1]\n",
    "\n",
    "submission.head()"
   ]
  },
  {
   "cell_type": "code",
   "execution_count": 212,
   "metadata": {},
   "outputs": [],
   "source": [
    "submission.to_csv('../../data/submissions/first_submission_xgboost.csv', index = False)"
   ]
  },
  {
   "cell_type": "code",
   "execution_count": null,
   "metadata": {},
   "outputs": [],
   "source": []
  },
  {
   "cell_type": "markdown",
   "metadata": {},
   "source": [
    "### #4: xgBoost with leaving categorical features as numerics (1-5 rating is now 'continous')"
   ]
  },
  {
   "cell_type": "markdown",
   "metadata": {},
   "source": [
    "#### H1N1"
   ]
  },
  {
   "cell_type": "code",
   "execution_count": 20,
   "metadata": {},
   "outputs": [
    {
     "name": "stdout",
     "output_type": "stream",
     "text": [
      "Original shape: (26707, 59)\n",
      "X shape: (26707, 58)\n",
      "y shape: (26707,)\n"
     ]
    }
   ],
   "source": [
    "h1n1 = pd.read_csv('../../data/h1n1_encoded.csv')\n",
    "\n",
    "X = h1n1.drop(['h1n1_vaccine'], 1)\n",
    "y = h1n1['h1n1_vaccine'].copy()\n",
    "\n",
    "print('Original shape:', h1n1.shape)\n",
    "print('X shape:', X.shape)\n",
    "print('y shape:', y.shape)"
   ]
  },
  {
   "cell_type": "code",
   "execution_count": 3,
   "metadata": {},
   "outputs": [],
   "source": [
    "def xgb_continuous_prepare(X_):\n",
    "    \n",
    "    X = X_.copy()    \n",
    "    X.columns = [col_name.replace('<', 'smaller_than').replace(',', '') for col_name in X.columns.tolist()]\n",
    "    \n",
    "    return X"
   ]
  },
  {
   "cell_type": "code",
   "execution_count": 21,
   "metadata": {},
   "outputs": [],
   "source": [
    "X = xgb_continuous_prepare(X)"
   ]
  },
  {
   "cell_type": "code",
   "execution_count": 22,
   "metadata": {},
   "outputs": [],
   "source": [
    "X_xgb_train, X_xgb_test, y_xgb_train, y_xgb_test = train_test_split(X, y, test_size = 0.2, random_state = 20202020)"
   ]
  },
  {
   "cell_type": "code",
   "execution_count": 23,
   "metadata": {
    "scrolled": true
   },
   "outputs": [
    {
     "name": "stdout",
     "output_type": "stream",
     "text": [
      "Started at Sat Feb  6 11:50:01 2021\n",
      "Ended at Sat Feb  6 11:50:32 2021\n",
      "0.5096426963806152 minutes\n"
     ]
    }
   ],
   "source": [
    "start = time.time()\n",
    "print(\"Started at\", str(time.ctime(int(start))))\n",
    "\n",
    "XGB_params = {'eta' : [0.025],\n",
    "              'gamma' : [3],\n",
    "              'subsample' : [1],\n",
    "              'colsample_bytree' : [2/3],\n",
    "              'colsample_bynode' : [2/3],\n",
    "              'max_depth' : [15],\n",
    "              'min_child_weight' : [1],\n",
    "              'n_estimators' : [250]}\n",
    "\n",
    "XGB = XGBClassifier(random_state = 20202020, verbosity = 0, objective = 'binary:logistic', eval_metric = 'auc')\n",
    "\n",
    "GRID_XGB_h1n1_cont = GridSearchCV(XGB, param_grid = XGB_params, cv = 5, scoring = 'roc_auc', n_jobs = -1)\n",
    "\n",
    "GRID_XGB_h1n1_cont.fit(X_xgb_train, y_xgb_train)\n",
    "\n",
    "print(\"Ended at\", str(time.ctime(int(time.time()))))\n",
    "print((time.time() - start) / 60, 'minutes')"
   ]
  },
  {
   "cell_type": "code",
   "execution_count": 24,
   "metadata": {},
   "outputs": [
    {
     "name": "stdout",
     "output_type": "stream",
     "text": [
      "AUC for xgBoost h1n1 without encoding : 0.8643\n",
      "LogLoss for xgBoost h1n1 without encoding : 0.348\n"
     ]
    },
    {
     "data": {
      "text/html": [
       "<div>\n",
       "<style scoped>\n",
       "    .dataframe tbody tr th:only-of-type {\n",
       "        vertical-align: middle;\n",
       "    }\n",
       "\n",
       "    .dataframe tbody tr th {\n",
       "        vertical-align: top;\n",
       "    }\n",
       "\n",
       "    .dataframe thead th {\n",
       "        text-align: right;\n",
       "    }\n",
       "</style>\n",
       "<table border=\"1\" class=\"dataframe\">\n",
       "  <thead>\n",
       "    <tr style=\"text-align: right;\">\n",
       "      <th></th>\n",
       "      <th>AUC</th>\n",
       "      <th>LogLoss</th>\n",
       "    </tr>\n",
       "  </thead>\n",
       "  <tbody>\n",
       "    <tr>\n",
       "      <th>xgBoost h1n1 without encoding</th>\n",
       "      <td>0.8643</td>\n",
       "      <td>0.348</td>\n",
       "    </tr>\n",
       "  </tbody>\n",
       "</table>\n",
       "</div>"
      ],
      "text/plain": [
       "                                  AUC  LogLoss\n",
       "xgBoost h1n1 without encoding  0.8643    0.348"
      ]
     },
     "execution_count": 24,
     "metadata": {},
     "output_type": "execute_result"
    }
   ],
   "source": [
    "evaluate_model('xgBoost h1n1 without encoding', GRID_XGB_h1n1_cont.best_estimator_, X_xgb_test, y_xgb_test)"
   ]
  },
  {
   "cell_type": "code",
   "execution_count": 250,
   "metadata": {},
   "outputs": [],
   "source": [
    "model_filename = 'models/h1n1_xgb_continuous.pkl'\n",
    "with open(model_filename, 'wb') as file:\n",
    "    pickle.dump(GRID_XGB_h1n1_cont.best_estimator_, file)"
   ]
  },
  {
   "cell_type": "code",
   "execution_count": null,
   "metadata": {},
   "outputs": [],
   "source": []
  },
  {
   "cell_type": "markdown",
   "metadata": {},
   "source": [
    "#### Seasonal"
   ]
  },
  {
   "cell_type": "code",
   "execution_count": 4,
   "metadata": {},
   "outputs": [
    {
     "name": "stdout",
     "output_type": "stream",
     "text": [
      "Original shape: (26707, 59)\n",
      "X shape: (26707, 58)\n",
      "y shape: (26707,)\n"
     ]
    }
   ],
   "source": [
    "seasonal = pd.read_csv('../../data/seasonal_encoded.csv')\n",
    "\n",
    "X = seasonal.drop(['seasonal_vaccine'], 1)\n",
    "y = seasonal['seasonal_vaccine'].copy()\n",
    "\n",
    "print('Original shape:', seasonal.shape)\n",
    "print('X shape:', X.shape)\n",
    "print('y shape:', y.shape)"
   ]
  },
  {
   "cell_type": "code",
   "execution_count": 5,
   "metadata": {},
   "outputs": [],
   "source": [
    "X = xgb_continuous_prepare(X)"
   ]
  },
  {
   "cell_type": "code",
   "execution_count": 6,
   "metadata": {},
   "outputs": [],
   "source": [
    "X_xgb_train, X_xgb_test, y_xgb_train, y_xgb_test = train_test_split(X, y, test_size = 0.2, random_state = 20202020)"
   ]
  },
  {
   "cell_type": "code",
   "execution_count": 17,
   "metadata": {},
   "outputs": [
    {
     "name": "stdout",
     "output_type": "stream",
     "text": [
      "Started at Sat Feb  6 11:49:27 2021\n",
      "Ended at Sat Feb  6 11:50:01 2021\n",
      "0.5733678181966145 minutes\n"
     ]
    }
   ],
   "source": [
    "start = time.time()\n",
    "print(\"Started at\", str(time.ctime(int(start))))\n",
    "\n",
    "XGB_params = {'eta' : [0.01],\n",
    "              'gamma' : [2],\n",
    "              'subsample' : [1],\n",
    "              'colsample_bytree' : [2/3],\n",
    "              'colsample_bynode' : [2/3],\n",
    "              'max_depth' : [15],\n",
    "              'min_child_weight' : [1],\n",
    "              'n_estimators' : [250]}\n",
    "\n",
    "XGB = XGBClassifier(random_state = 20202020, verbosity = 0, objective = 'binary:logistic', eval_metric = 'auc')\n",
    "\n",
    "GRID_XGB_seasonal_cont = GridSearchCV(XGB, param_grid = XGB_params, cv = 5, scoring = 'roc_auc', n_jobs = -1)\n",
    "\n",
    "GRID_XGB_seasonal_cont.fit(X_xgb_train, y_xgb_train)\n",
    "\n",
    "print(\"Ended at\", str(time.ctime(int(time.time()))))\n",
    "print((time.time() - start) / 60, 'minutes')"
   ]
  },
  {
   "cell_type": "code",
   "execution_count": 18,
   "metadata": {},
   "outputs": [
    {
     "name": "stdout",
     "output_type": "stream",
     "text": [
      "AUC for xgBoost seasonal without encoding : 0.8591\n",
      "LogLoss for xgBoost seasonal without encoding : 0.475\n"
     ]
    },
    {
     "data": {
      "text/html": [
       "<div>\n",
       "<style scoped>\n",
       "    .dataframe tbody tr th:only-of-type {\n",
       "        vertical-align: middle;\n",
       "    }\n",
       "\n",
       "    .dataframe tbody tr th {\n",
       "        vertical-align: top;\n",
       "    }\n",
       "\n",
       "    .dataframe thead th {\n",
       "        text-align: right;\n",
       "    }\n",
       "</style>\n",
       "<table border=\"1\" class=\"dataframe\">\n",
       "  <thead>\n",
       "    <tr style=\"text-align: right;\">\n",
       "      <th></th>\n",
       "      <th>AUC</th>\n",
       "      <th>LogLoss</th>\n",
       "    </tr>\n",
       "  </thead>\n",
       "  <tbody>\n",
       "    <tr>\n",
       "      <th>xgBoost seasonal without encoding</th>\n",
       "      <td>0.8591</td>\n",
       "      <td>0.475</td>\n",
       "    </tr>\n",
       "  </tbody>\n",
       "</table>\n",
       "</div>"
      ],
      "text/plain": [
       "                                      AUC  LogLoss\n",
       "xgBoost seasonal without encoding  0.8591    0.475"
      ]
     },
     "execution_count": 18,
     "metadata": {},
     "output_type": "execute_result"
    }
   ],
   "source": [
    "evaluate_model('xgBoost seasonal without encoding', GRID_XGB_seasonal_cont.best_estimator_, X_xgb_test, y_xgb_test)"
   ]
  },
  {
   "cell_type": "code",
   "execution_count": 19,
   "metadata": {},
   "outputs": [],
   "source": [
    "model_filename = 'models/seasonal_xgb_continuous.pkl'\n",
    "with open(model_filename, 'wb') as file:\n",
    "    pickle.dump(GRID_XGB_seasonal_cont.best_estimator_, file)"
   ]
  },
  {
   "cell_type": "code",
   "execution_count": null,
   "metadata": {},
   "outputs": [],
   "source": []
  },
  {
   "cell_type": "code",
   "execution_count": null,
   "metadata": {},
   "outputs": [],
   "source": []
  },
  {
   "cell_type": "markdown",
   "metadata": {},
   "source": [
    "### #5: LightGBM treating rating categoricals as continuous"
   ]
  },
  {
   "cell_type": "markdown",
   "metadata": {},
   "source": [
    "#### H1N1"
   ]
  },
  {
   "cell_type": "code",
   "execution_count": 50,
   "metadata": {},
   "outputs": [
    {
     "name": "stdout",
     "output_type": "stream",
     "text": [
      "Original shape: (26707, 59)\n",
      "X shape: (26707, 58)\n",
      "y shape: (26707,)\n"
     ]
    }
   ],
   "source": [
    "h1n1 = pd.read_csv('../../data/h1n1_encoded.csv')\n",
    "\n",
    "X = h1n1.drop(['h1n1_vaccine'], 1)\n",
    "y = h1n1['h1n1_vaccine'].copy()\n",
    "\n",
    "print('Original shape:', h1n1.shape)\n",
    "print('X shape:', X.shape)\n",
    "print('y shape:', y.shape)"
   ]
  },
  {
   "cell_type": "code",
   "execution_count": 51,
   "metadata": {},
   "outputs": [],
   "source": [
    "X = xgb_continuous_prepare(X)"
   ]
  },
  {
   "cell_type": "code",
   "execution_count": 52,
   "metadata": {},
   "outputs": [],
   "source": [
    "X_lgb_train, X_lgb_test, y_lgb_train, y_lgb_test = train_test_split(X, y, test_size = 0.2, random_state = 20202020)"
   ]
  },
  {
   "cell_type": "code",
   "execution_count": 67,
   "metadata": {},
   "outputs": [
    {
     "name": "stdout",
     "output_type": "stream",
     "text": [
      "Started at Sat Feb  6 12:36:08 2021\n",
      "Ended at Sat Feb  6 12:36:09 2021\n",
      "0.027619226773579916 minutes\n"
     ]
    }
   ],
   "source": [
    "start = time.time()\n",
    "print(\"Started at\", str(time.ctime(int(start))))\n",
    "\n",
    "LGB_params = {'boosting_type' : ['gbdt'], \n",
    "              'learning_rate' : [0.05],\n",
    "              'num_leaves' : [25],\n",
    "              'min_child_samples' : [1],\n",
    "              'max_depth' : [13],\n",
    "              'subsample' : [1],\n",
    "              'colsample_bytree' : [1/2],\n",
    "              'n_estimators' : [250]}\n",
    "\n",
    "LGB = LGBMClassifier(random_state = 20202020, objective = 'binary', metric = 'auc')\n",
    "GRID_LGB_h1n1 = GridSearchCV(LGB, param_grid = LGB_params, cv = 5, scoring = 'roc_auc', n_jobs = -1)\n",
    "GRID_LGB_h1n1.fit(X_lgb_train, y_lgb_train) \n",
    "\n",
    "print(\"Ended at\", str(time.ctime(int(time.time()))))\n",
    "print((time.time() - start) / 60, 'minutes')"
   ]
  },
  {
   "cell_type": "code",
   "execution_count": 68,
   "metadata": {},
   "outputs": [
    {
     "name": "stdout",
     "output_type": "stream",
     "text": [
      "AUC for LightGBM h1n1, continous : 0.8656\n",
      "LogLoss for LightGBM h1n1, continous : 0.346\n"
     ]
    },
    {
     "data": {
      "text/html": [
       "<div>\n",
       "<style scoped>\n",
       "    .dataframe tbody tr th:only-of-type {\n",
       "        vertical-align: middle;\n",
       "    }\n",
       "\n",
       "    .dataframe tbody tr th {\n",
       "        vertical-align: top;\n",
       "    }\n",
       "\n",
       "    .dataframe thead th {\n",
       "        text-align: right;\n",
       "    }\n",
       "</style>\n",
       "<table border=\"1\" class=\"dataframe\">\n",
       "  <thead>\n",
       "    <tr style=\"text-align: right;\">\n",
       "      <th></th>\n",
       "      <th>AUC</th>\n",
       "      <th>LogLoss</th>\n",
       "    </tr>\n",
       "  </thead>\n",
       "  <tbody>\n",
       "    <tr>\n",
       "      <th>LightGBM h1n1, continous</th>\n",
       "      <td>0.8656</td>\n",
       "      <td>0.346</td>\n",
       "    </tr>\n",
       "  </tbody>\n",
       "</table>\n",
       "</div>"
      ],
      "text/plain": [
       "                             AUC  LogLoss\n",
       "LightGBM h1n1, continous  0.8656    0.346"
      ]
     },
     "execution_count": 68,
     "metadata": {},
     "output_type": "execute_result"
    }
   ],
   "source": [
    "evaluate_model('LightGBM h1n1, continous', GRID_LGB_h1n1.best_estimator_, X_lgb_test, y_lgb_test)"
   ]
  },
  {
   "cell_type": "code",
   "execution_count": 69,
   "metadata": {},
   "outputs": [],
   "source": [
    "model_filename = 'models/h1n1_lighgbm_continuous.pkl'\n",
    "with open(model_filename, 'wb') as file:\n",
    "    pickle.dump(GRID_LGB_h1n1.best_estimator_, file)"
   ]
  },
  {
   "cell_type": "code",
   "execution_count": null,
   "metadata": {},
   "outputs": [],
   "source": []
  },
  {
   "cell_type": "markdown",
   "metadata": {},
   "source": [
    "#### Seasonal"
   ]
  },
  {
   "cell_type": "code",
   "execution_count": 70,
   "metadata": {},
   "outputs": [
    {
     "name": "stdout",
     "output_type": "stream",
     "text": [
      "Original shape: (26707, 59)\n",
      "X shape: (26707, 58)\n",
      "y shape: (26707,)\n"
     ]
    }
   ],
   "source": [
    "seasonal = pd.read_csv('../../data/seasonal_encoded.csv')\n",
    "\n",
    "X = seasonal.drop(['seasonal_vaccine'], 1)\n",
    "y = seasonal['seasonal_vaccine'].copy()\n",
    "\n",
    "print('Original shape:', seasonal.shape)\n",
    "print('X shape:', X.shape)\n",
    "print('y shape:', y.shape)"
   ]
  },
  {
   "cell_type": "code",
   "execution_count": 71,
   "metadata": {},
   "outputs": [],
   "source": [
    "X = xgb_continuous_prepare(X)"
   ]
  },
  {
   "cell_type": "code",
   "execution_count": 72,
   "metadata": {},
   "outputs": [],
   "source": [
    "X_lgb_train, X_lgb_test, y_lgb_train, y_lgb_test = train_test_split(X, y, test_size = 0.2, random_state = 20202020)"
   ]
  },
  {
   "cell_type": "code",
   "execution_count": 91,
   "metadata": {},
   "outputs": [
    {
     "name": "stdout",
     "output_type": "stream",
     "text": [
      "Started at Sat Feb  6 13:02:16 2021\n",
      "Ended at Sat Feb  6 13:02:18 2021\n",
      "0.03334998687108358 minutes\n"
     ]
    }
   ],
   "source": [
    "start = time.time()\n",
    "print(\"Started at\", str(time.ctime(int(start))))\n",
    "\n",
    "LGB_params = {'boosting_type' : ['gbdt'], \n",
    "              'learning_rate' : [0.05],\n",
    "              'num_leaves' : [35],\n",
    "              'min_child_samples' : [1],\n",
    "              'max_depth' : [13],\n",
    "              'subsample' : [1],\n",
    "              'colsample_bytree' : [1/2],\n",
    "              'n_estimators' : [250]}\n",
    "\n",
    "LGB = LGBMClassifier(random_state = 20202020, objective = 'binary', metric = 'auc')\n",
    "GRID_LGB_seasonal = GridSearchCV(LGB, param_grid = LGB_params, cv = 5, scoring = 'roc_auc', n_jobs = -1)\n",
    "GRID_LGB_seasonal.fit(X_lgb_train, y_lgb_train) \n",
    "\n",
    "print(\"Ended at\", str(time.ctime(int(time.time()))))\n",
    "print((time.time() - start) / 60, 'minutes')"
   ]
  },
  {
   "cell_type": "code",
   "execution_count": 93,
   "metadata": {},
   "outputs": [
    {
     "name": "stdout",
     "output_type": "stream",
     "text": [
      "AUC for LightGBM seasonal, continous : 0.8619\n",
      "LogLoss for LightGBM seasonal, continous : 0.462\n"
     ]
    },
    {
     "data": {
      "text/html": [
       "<div>\n",
       "<style scoped>\n",
       "    .dataframe tbody tr th:only-of-type {\n",
       "        vertical-align: middle;\n",
       "    }\n",
       "\n",
       "    .dataframe tbody tr th {\n",
       "        vertical-align: top;\n",
       "    }\n",
       "\n",
       "    .dataframe thead th {\n",
       "        text-align: right;\n",
       "    }\n",
       "</style>\n",
       "<table border=\"1\" class=\"dataframe\">\n",
       "  <thead>\n",
       "    <tr style=\"text-align: right;\">\n",
       "      <th></th>\n",
       "      <th>AUC</th>\n",
       "      <th>LogLoss</th>\n",
       "    </tr>\n",
       "  </thead>\n",
       "  <tbody>\n",
       "    <tr>\n",
       "      <th>LightGBM seasonal, continous</th>\n",
       "      <td>0.8619</td>\n",
       "      <td>0.462</td>\n",
       "    </tr>\n",
       "  </tbody>\n",
       "</table>\n",
       "</div>"
      ],
      "text/plain": [
       "                                 AUC  LogLoss\n",
       "LightGBM seasonal, continous  0.8619    0.462"
      ]
     },
     "execution_count": 93,
     "metadata": {},
     "output_type": "execute_result"
    }
   ],
   "source": [
    "evaluate_model('LightGBM seasonal, continous', GRID_LGB_seasonal.best_estimator_, X_lgb_test, y_lgb_test)"
   ]
  },
  {
   "cell_type": "code",
   "execution_count": 94,
   "metadata": {},
   "outputs": [],
   "source": [
    "model_filename = 'models/seasonal_lighgbm_continuous.pkl'\n",
    "with open(model_filename, 'wb') as file:\n",
    "    pickle.dump(GRID_LGB_seasonal.best_estimator_, file)"
   ]
  },
  {
   "cell_type": "code",
   "execution_count": null,
   "metadata": {},
   "outputs": [],
   "source": []
  },
  {
   "cell_type": "markdown",
   "metadata": {},
   "source": [
    "#### Make predictions on test set"
   ]
  },
  {
   "cell_type": "code",
   "execution_count": 95,
   "metadata": {},
   "outputs": [],
   "source": [
    "test = pd.read_csv('../../data/originals/test_encoded.csv')\n",
    "respondent_id = test['respondent_id'].copy()\n",
    "test.drop(['respondent_id'], 1, inplace = True)\n",
    "\n",
    "test = xgb_continuous_prepare(test)"
   ]
  },
  {
   "cell_type": "code",
   "execution_count": 96,
   "metadata": {},
   "outputs": [
    {
     "data": {
      "text/html": [
       "<div>\n",
       "<style scoped>\n",
       "    .dataframe tbody tr th:only-of-type {\n",
       "        vertical-align: middle;\n",
       "    }\n",
       "\n",
       "    .dataframe tbody tr th {\n",
       "        vertical-align: top;\n",
       "    }\n",
       "\n",
       "    .dataframe thead th {\n",
       "        text-align: right;\n",
       "    }\n",
       "</style>\n",
       "<table border=\"1\" class=\"dataframe\">\n",
       "  <thead>\n",
       "    <tr style=\"text-align: right;\">\n",
       "      <th></th>\n",
       "      <th>respondent_id</th>\n",
       "      <th>h1n1_vaccine</th>\n",
       "      <th>seasonal_vaccine</th>\n",
       "    </tr>\n",
       "  </thead>\n",
       "  <tbody>\n",
       "    <tr>\n",
       "      <th>0</th>\n",
       "      <td>26707</td>\n",
       "      <td>0.130207</td>\n",
       "      <td>0.272264</td>\n",
       "    </tr>\n",
       "    <tr>\n",
       "      <th>1</th>\n",
       "      <td>26708</td>\n",
       "      <td>0.045001</td>\n",
       "      <td>0.029423</td>\n",
       "    </tr>\n",
       "    <tr>\n",
       "      <th>2</th>\n",
       "      <td>26709</td>\n",
       "      <td>0.213177</td>\n",
       "      <td>0.721784</td>\n",
       "    </tr>\n",
       "    <tr>\n",
       "      <th>3</th>\n",
       "      <td>26710</td>\n",
       "      <td>0.586978</td>\n",
       "      <td>0.888846</td>\n",
       "    </tr>\n",
       "    <tr>\n",
       "      <th>4</th>\n",
       "      <td>26711</td>\n",
       "      <td>0.233213</td>\n",
       "      <td>0.441687</td>\n",
       "    </tr>\n",
       "  </tbody>\n",
       "</table>\n",
       "</div>"
      ],
      "text/plain": [
       "   respondent_id  h1n1_vaccine  seasonal_vaccine\n",
       "0          26707      0.130207          0.272264\n",
       "1          26708      0.045001          0.029423\n",
       "2          26709      0.213177          0.721784\n",
       "3          26710      0.586978          0.888846\n",
       "4          26711      0.233213          0.441687"
      ]
     },
     "execution_count": 96,
     "metadata": {},
     "output_type": "execute_result"
    }
   ],
   "source": [
    "submission = pd.DataFrame(respondent_id)\n",
    "submission['h1n1_vaccine'] = GRID_LGB_h1n1.best_estimator_.predict_proba(test)[:,1]\n",
    "submission['seasonal_vaccine'] = GRID_LGB_seasonal.best_estimator_.predict_proba(test)[:,1]\n",
    "\n",
    "submission.head()"
   ]
  },
  {
   "cell_type": "code",
   "execution_count": 97,
   "metadata": {},
   "outputs": [],
   "source": [
    "submission.to_csv('../../data/submissions/lgb_continuous.csv', index = False)"
   ]
  },
  {
   "cell_type": "code",
   "execution_count": null,
   "metadata": {},
   "outputs": [],
   "source": []
  },
  {
   "cell_type": "code",
   "execution_count": null,
   "metadata": {},
   "outputs": [],
   "source": []
  },
  {
   "cell_type": "markdown",
   "metadata": {},
   "source": [
    "## Add some weaker learners\n",
    "### Stacker (by taking central values) gets me to the top 7%, but all learners are strong ensembles\n",
    "Will need to train a LogisticRegression() and a RandomForestClassifier() as well. But later can try neighbors, SVMs and simple decision trees."
   ]
  },
  {
   "cell_type": "code",
   "execution_count": null,
   "metadata": {},
   "outputs": [],
   "source": []
  }
 ],
 "metadata": {
  "kernelspec": {
   "display_name": "Python 3",
   "language": "python",
   "name": "python3"
  },
  "language_info": {
   "codemirror_mode": {
    "name": "ipython",
    "version": 3
   },
   "file_extension": ".py",
   "mimetype": "text/x-python",
   "name": "python",
   "nbconvert_exporter": "python",
   "pygments_lexer": "ipython3",
   "version": "3.8.3"
  }
 },
 "nbformat": 4,
 "nbformat_minor": 4
}

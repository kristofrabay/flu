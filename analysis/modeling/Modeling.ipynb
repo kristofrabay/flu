{
 "cells": [
  {
   "cell_type": "markdown",
   "metadata": {},
   "source": [
    "## Modeling the h1n1 and seasonal flu shots\n",
    "I have 2 target features\n",
    "1. h1n1 vaccination\n",
    "2. seasonal vaccination\n",
    "\n",
    "For now, both target variables will be predicted by the same underlying X features.\n",
    "As most of my features are categorical / binary variables, my goal is to build 4 models, then stack them\n",
    "1. CatBoost on original (not one hot encoded) dataset\n",
    "2. LightGBM on original (not one hot encoded) dataset by setting categorical features\n",
    "3. xgBoost on one hot encoded dataset\n",
    "4. LightGbm / CatBoost / sklearn GBM on one-hot encoded dataset (whichever is best)\n",
    "\n",
    "### First, I'll build models for h1n1"
   ]
  },
  {
   "cell_type": "code",
   "execution_count": 87,
   "metadata": {},
   "outputs": [],
   "source": [
    "import pandas as pd\n",
    "import numpy as np\n",
    "\n",
    "from sklearn.metrics import log_loss, roc_auc_score\n",
    "from sklearn.model_selection import train_test_split, GridSearchCV\n",
    "\n",
    "from sklearn.ensemble import GradientBoostingClassifier\n",
    "from xgboost import XGBClassifier\n",
    "from lightgbm import LGBMClassifier\n",
    "from catboost import CatBoostClassifier\n",
    "\n",
    "import time\n",
    "import warnings\n",
    "warnings.filterwarnings('ignore')\n",
    "\n",
    "def evaluate_model(model_name, model, X, y):\n",
    "    \n",
    "    predictions_probas = model.predict_proba(X)[:,1]\n",
    "\n",
    "    AUC = roc_auc_score(y, predictions_probas)\n",
    "    LogLoss = log_loss(y, predictions_probas)\n",
    "\n",
    "    print('AUC for', model_name, ': %1.4f' % AUC)\n",
    "    print('LogLoss for', model_name, ': %1.3f' % LogLoss)\n",
    "\n",
    "    metrics_table = pd.DataFrame({'AUC' : [round(AUC, 4)], 'LogLoss' : [round(LogLoss, 3)]}, index = [model_name])\n",
    "    \n",
    "    return metrics_table"
   ]
  },
  {
   "cell_type": "markdown",
   "metadata": {},
   "source": [
    "#### CatBoost"
   ]
  },
  {
   "cell_type": "code",
   "execution_count": 81,
   "metadata": {},
   "outputs": [
    {
     "name": "stdout",
     "output_type": "stream",
     "text": [
      "Original shape: (26707, 34)\n",
      "X shape: (26707, 33)\n",
      "y shape: (26707,)\n"
     ]
    }
   ],
   "source": [
    "h1n1_cat = pd.read_csv('../../data/h1n1_catboost.csv')\n",
    "\n",
    "X_catboost = h1n1_cat.drop(['h1n1_vaccine'], 1)\n",
    "y_catboost = h1n1_cat['h1n1_vaccine'].copy()\n",
    "\n",
    "print('Original shape:', h1n1_cat.shape)\n",
    "print('X shape:', X_catboost.shape)\n",
    "print('y shape:', y_catboost.shape)"
   ]
  },
  {
   "cell_type": "code",
   "execution_count": 82,
   "metadata": {},
   "outputs": [],
   "source": [
    "for col in X_catboost.dtypes[X_catboost.dtypes == 'float64'].index.tolist():\n",
    "    X_catboost[col] = X_catboost[col].astype(pd.Int64Dtype()).astype('O')\n",
    "    \n",
    "for col in X_catboost.columns.tolist():\n",
    "    X_catboost[col] = X_catboost[col].fillna('None')"
   ]
  },
  {
   "cell_type": "code",
   "execution_count": 85,
   "metadata": {},
   "outputs": [],
   "source": [
    "X_cat_train, X_cat_test, y_cat_train, y_cat_test = train_test_split(X_catboost, y_catboost, test_size = 0.2, random_state = 20202020)"
   ]
  },
  {
   "cell_type": "code",
   "execution_count": null,
   "metadata": {},
   "outputs": [
    {
     "name": "stdout",
     "output_type": "stream",
     "text": [
      "Started at Thu Feb  4 14:37:21 2021\n"
     ]
    }
   ],
   "source": [
    "start = time.time()\n",
    "print(\"Started at\", str(time.ctime(int(start))))\n",
    "\n",
    "cat_params = {'learning_rate': [0.1, 0.2, 0.01],\n",
    "              'l2_leaf_reg': [0.5, 0.1, 1],\n",
    "              'subsample': [0.75],\n",
    "              'rsm' : [2/3, 3/4],\n",
    "              'max_depth': [7, 9, 11], # up to 16 (8 on gpu)\n",
    "              'grow_policy': ['Lossguide', 'Depthwise', 'SymmetricTree'],\n",
    "              'min_data_in_leaf' : [17, 23, 29], \n",
    "              'max_leaves' : [15, 19, 23],\n",
    "              'iterations' : [100, 500]} \n",
    "\n",
    "cat = CatBoostClassifier(random_state = 20202020, verbose = 0,\n",
    "                         eval_metric = 'AUC:hints=skip_train~false', objective = 'Logloss',\n",
    "                         cat_features = X_catboost.columns.tolist())\n",
    "\n",
    "GRID_cat = GridSearchCV(cat, param_grid = cat_params, cv = 5, scoring = 'roc_auc', n_jobs = -1)\n",
    "\n",
    "GRID_cat.fit(X_cat_train, y_cat_train)\n",
    "\n",
    "print(\"Ended at\", str(time.ctime(int(time.time()))))\n",
    "print((time.time() - start) / 60, 'minutes')"
   ]
  },
  {
   "cell_type": "code",
   "execution_count": 88,
   "metadata": {},
   "outputs": [
    {
     "name": "stdout",
     "output_type": "stream",
     "text": [
      "AUC for CatBoost : 0.8338\n",
      "LogLoss for CatBoost : 0.478\n"
     ]
    },
    {
     "data": {
      "text/html": [
       "<div>\n",
       "<style scoped>\n",
       "    .dataframe tbody tr th:only-of-type {\n",
       "        vertical-align: middle;\n",
       "    }\n",
       "\n",
       "    .dataframe tbody tr th {\n",
       "        vertical-align: top;\n",
       "    }\n",
       "\n",
       "    .dataframe thead th {\n",
       "        text-align: right;\n",
       "    }\n",
       "</style>\n",
       "<table border=\"1\" class=\"dataframe\">\n",
       "  <thead>\n",
       "    <tr style=\"text-align: right;\">\n",
       "      <th></th>\n",
       "      <th>AUC</th>\n",
       "      <th>LogLoss</th>\n",
       "    </tr>\n",
       "  </thead>\n",
       "  <tbody>\n",
       "    <tr>\n",
       "      <th>CatBoost</th>\n",
       "      <td>0.8338</td>\n",
       "      <td>0.478</td>\n",
       "    </tr>\n",
       "  </tbody>\n",
       "</table>\n",
       "</div>"
      ],
      "text/plain": [
       "             AUC  LogLoss\n",
       "CatBoost  0.8338    0.478"
      ]
     },
     "execution_count": 88,
     "metadata": {},
     "output_type": "execute_result"
    }
   ],
   "source": [
    "evaluate_model('CatBoost', GRID_cat.best_estimator_, X_cat_test, y_cat_test)"
   ]
  },
  {
   "cell_type": "code",
   "execution_count": null,
   "metadata": {},
   "outputs": [],
   "source": [
    "evaluate_model('CatBoost', GRID_cat.best_estimator_, X_cat_test, y_cat_test)"
   ]
  },
  {
   "cell_type": "code",
   "execution_count": null,
   "metadata": {},
   "outputs": [],
   "source": []
  }
 ],
 "metadata": {
  "kernelspec": {
   "display_name": "Python 3",
   "language": "python",
   "name": "python3"
  },
  "language_info": {
   "codemirror_mode": {
    "name": "ipython",
    "version": 3
   },
   "file_extension": ".py",
   "mimetype": "text/x-python",
   "name": "python",
   "nbconvert_exporter": "python",
   "pygments_lexer": "ipython3",
   "version": "3.7.3"
  }
 },
 "nbformat": 4,
 "nbformat_minor": 4
}

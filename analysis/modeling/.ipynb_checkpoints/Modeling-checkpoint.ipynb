{
 "cells": [
  {
   "cell_type": "markdown",
   "metadata": {},
   "source": [
    "## Modeling the h1n1 and seasonal flu shots\n",
    "I have 2 target features\n",
    "1. h1n1 vaccination\n",
    "2. seasonal vaccination\n",
    "\n",
    "For now, both target variables will be predicted by the same underlying X features.\n",
    "As most of my features are categorical / binary variables, my goal is to build 4 models, then stack them\n",
    "1. CatBoost on original (not one hot encoded) dataset\n",
    "2. LightGBM on original (not one hot encoded) dataset by setting categorical features\n",
    "3. xgBoost on one hot encoded dataset\n",
    "4. LightGbm / CatBoost / sklearn GBM on one-hot encoded dataset (whichever is best)\n",
    "\n",
    "### First, I'll build models with CatBoost"
   ]
  },
  {
   "cell_type": "code",
   "execution_count": 12,
   "metadata": {},
   "outputs": [],
   "source": [
    "import pandas as pd\n",
    "import numpy as np\n",
    "\n",
    "from sklearn.metrics import log_loss, roc_auc_score\n",
    "from sklearn.model_selection import train_test_split, GridSearchCV\n",
    "\n",
    "from sklearn.ensemble import GradientBoostingClassifier\n",
    "from xgboost import XGBClassifier\n",
    "from lightgbm import LGBMClassifier\n",
    "from catboost import CatBoostClassifier\n",
    "\n",
    "import time\n",
    "import pickle\n",
    "import warnings\n",
    "warnings.filterwarnings('ignore')\n",
    "\n",
    "def evaluate_model(model_name, model, X, y):\n",
    "    \n",
    "    predictions_probas = model.predict_proba(X)[:,1]\n",
    "\n",
    "    AUC = roc_auc_score(y, predictions_probas)\n",
    "    LogLoss = log_loss(y, predictions_probas)\n",
    "\n",
    "    print('AUC for', model_name, ': %1.4f' % AUC)\n",
    "    print('LogLoss for', model_name, ': %1.3f' % LogLoss)\n",
    "\n",
    "    metrics_table = pd.DataFrame({'AUC' : [round(AUC, 4)], 'LogLoss' : [round(LogLoss, 3)]}, index = [model_name])\n",
    "    \n",
    "    return metrics_table"
   ]
  },
  {
   "cell_type": "markdown",
   "metadata": {},
   "source": [
    "#### H1N1"
   ]
  },
  {
   "cell_type": "code",
   "execution_count": 3,
   "metadata": {},
   "outputs": [
    {
     "name": "stdout",
     "output_type": "stream",
     "text": [
      "Original shape: (26707, 34)\n",
      "X shape: (26707, 33)\n",
      "y shape: (26707,)\n"
     ]
    }
   ],
   "source": [
    "h1n1_cat = pd.read_csv('../../data/h1n1_catboost.csv')\n",
    "\n",
    "X_catboost = h1n1_cat.drop(['h1n1_vaccine'], 1)\n",
    "y_catboost = h1n1_cat['h1n1_vaccine'].copy()\n",
    "\n",
    "print('Original shape:', h1n1_cat.shape)\n",
    "print('X shape:', X_catboost.shape)\n",
    "print('y shape:', y_catboost.shape)"
   ]
  },
  {
   "cell_type": "code",
   "execution_count": 4,
   "metadata": {},
   "outputs": [],
   "source": [
    "for col in X_catboost.dtypes[X_catboost.dtypes == 'float64'].index.tolist():\n",
    "    X_catboost[col] = X_catboost[col].astype(pd.Int64Dtype()).astype('O')\n",
    "    \n",
    "for col in X_catboost.columns.tolist():\n",
    "    X_catboost[col] = X_catboost[col].fillna('None')"
   ]
  },
  {
   "cell_type": "code",
   "execution_count": 5,
   "metadata": {},
   "outputs": [],
   "source": [
    "X_cat_train, X_cat_test, y_cat_train, y_cat_test = train_test_split(X_catboost, y_catboost, test_size = 0.2, random_state = 20202020)"
   ]
  },
  {
   "cell_type": "code",
   "execution_count": 34,
   "metadata": {},
   "outputs": [
    {
     "name": "stdout",
     "output_type": "stream",
     "text": [
      "Started at Fri Feb  5 11:50:24 2021\n",
      "Ended at Fri Feb  5 11:51:06 2021\n",
      "0.6912403861681621 minutes\n"
     ]
    }
   ],
   "source": [
    "start = time.time()\n",
    "print(\"Started at\", str(time.ctime(int(start))))\n",
    "\n",
    "cat_params = {'learning_rate': [0.1],\n",
    "              'l2_leaf_reg': [0.5],\n",
    "              'subsample': [0.75],\n",
    "              'rsm' : [2/3],\n",
    "              'max_depth': [9], # up to 16 (8 on gpu)\n",
    "              'grow_policy': ['Lossguide'],\n",
    "              'min_data_in_leaf' : [23], \n",
    "              'max_leaves' : [23],\n",
    "              'iterations' : [100]} \n",
    "\n",
    "cat = CatBoostClassifier(random_state = 20202020, verbose = 0,\n",
    "                         eval_metric = 'AUC:hints=skip_train~false', objective = 'Logloss',\n",
    "                         cat_features = X_catboost.columns.tolist())\n",
    "\n",
    "GRID_cat = GridSearchCV(cat, param_grid = cat_params, cv = 5, scoring = 'roc_auc', n_jobs = -1)\n",
    "\n",
    "GRID_cat.fit(X_cat_train, y_cat_train)\n",
    "\n",
    "print(\"Ended at\", str(time.ctime(int(time.time()))))\n",
    "print((time.time() - start) / 60, 'minutes')"
   ]
  },
  {
   "cell_type": "code",
   "execution_count": 35,
   "metadata": {},
   "outputs": [
    {
     "data": {
      "text/plain": [
       "{'grow_policy': 'Lossguide',\n",
       " 'iterations': 100,\n",
       " 'l2_leaf_reg': 0.5,\n",
       " 'learning_rate': 0.1,\n",
       " 'max_depth': 9,\n",
       " 'max_leaves': 23,\n",
       " 'min_data_in_leaf': 23,\n",
       " 'rsm': 0.6666666666666666,\n",
       " 'subsample': 0.75}"
      ]
     },
     "execution_count": 35,
     "metadata": {},
     "output_type": "execute_result"
    }
   ],
   "source": [
    "GRID_cat.best_params_"
   ]
  },
  {
   "cell_type": "code",
   "execution_count": 36,
   "metadata": {},
   "outputs": [
    {
     "name": "stdout",
     "output_type": "stream",
     "text": [
      "AUC for CatBoost h1n1 : 0.8674\n",
      "LogLoss for CatBoost h1n1 : 0.345\n"
     ]
    },
    {
     "data": {
      "text/html": [
       "<div>\n",
       "<style scoped>\n",
       "    .dataframe tbody tr th:only-of-type {\n",
       "        vertical-align: middle;\n",
       "    }\n",
       "\n",
       "    .dataframe tbody tr th {\n",
       "        vertical-align: top;\n",
       "    }\n",
       "\n",
       "    .dataframe thead th {\n",
       "        text-align: right;\n",
       "    }\n",
       "</style>\n",
       "<table border=\"1\" class=\"dataframe\">\n",
       "  <thead>\n",
       "    <tr style=\"text-align: right;\">\n",
       "      <th></th>\n",
       "      <th>AUC</th>\n",
       "      <th>LogLoss</th>\n",
       "    </tr>\n",
       "  </thead>\n",
       "  <tbody>\n",
       "    <tr>\n",
       "      <th>CatBoost h1n1</th>\n",
       "      <td>0.8674</td>\n",
       "      <td>0.345</td>\n",
       "    </tr>\n",
       "  </tbody>\n",
       "</table>\n",
       "</div>"
      ],
      "text/plain": [
       "                  AUC  LogLoss\n",
       "CatBoost h1n1  0.8674    0.345"
      ]
     },
     "execution_count": 36,
     "metadata": {},
     "output_type": "execute_result"
    }
   ],
   "source": [
    "evaluate_model('CatBoost h1n1', GRID_cat.best_estimator_, X_cat_test, y_cat_test)"
   ]
  },
  {
   "cell_type": "code",
   "execution_count": 64,
   "metadata": {},
   "outputs": [],
   "source": [
    "model_filename = 'models/h1n1_catboost.pkl'\n",
    "with open(model_filename, 'wb') as file:\n",
    "    pickle.dump(GRID_cat.best_estimator_, file)"
   ]
  },
  {
   "cell_type": "code",
   "execution_count": null,
   "metadata": {},
   "outputs": [],
   "source": []
  },
  {
   "cell_type": "code",
   "execution_count": null,
   "metadata": {},
   "outputs": [],
   "source": []
  },
  {
   "cell_type": "markdown",
   "metadata": {},
   "source": [
    "#### Seasonal"
   ]
  },
  {
   "cell_type": "code",
   "execution_count": 38,
   "metadata": {},
   "outputs": [
    {
     "name": "stdout",
     "output_type": "stream",
     "text": [
      "Original shape: (26707, 34)\n",
      "X shape: (26707, 33)\n",
      "y shape: (26707,)\n"
     ]
    }
   ],
   "source": [
    "seasonal_cat = pd.read_csv('../../data/seasonal_catboost.csv')\n",
    "\n",
    "X_catboost = seasonal_cat.drop(['seasonal_vaccine'], 1)\n",
    "y_catboost = seasonal_cat['seasonal_vaccine'].copy()\n",
    "\n",
    "print('Original shape:', seasonal_cat.shape)\n",
    "print('X shape:', X_catboost.shape)\n",
    "print('y shape:', y_catboost.shape)"
   ]
  },
  {
   "cell_type": "code",
   "execution_count": 39,
   "metadata": {},
   "outputs": [],
   "source": [
    "for col in X_catboost.dtypes[X_catboost.dtypes == 'float64'].index.tolist():\n",
    "    X_catboost[col] = X_catboost[col].astype(pd.Int64Dtype()).astype('O')\n",
    "    \n",
    "for col in X_catboost.columns.tolist():\n",
    "    X_catboost[col] = X_catboost[col].fillna('None')"
   ]
  },
  {
   "cell_type": "code",
   "execution_count": 40,
   "metadata": {},
   "outputs": [],
   "source": [
    "X_cat_train, X_cat_test, y_cat_train, y_cat_test = train_test_split(X_catboost, y_catboost, test_size = 0.2, random_state = 20202020)"
   ]
  },
  {
   "cell_type": "code",
   "execution_count": 46,
   "metadata": {},
   "outputs": [
    {
     "name": "stdout",
     "output_type": "stream",
     "text": [
      "Started at Fri Feb  5 11:54:43 2021\n",
      "Ended at Fri Feb  5 11:55:29 2021\n",
      "0.7637951334317525 minutes\n"
     ]
    }
   ],
   "source": [
    "start = time.time()\n",
    "print(\"Started at\", str(time.ctime(int(start))))\n",
    "\n",
    "cat_params = {'learning_rate': [0.1],\n",
    "              'l2_leaf_reg': [0.5],\n",
    "              'subsample': [0.75],\n",
    "              'rsm' : [2/3],\n",
    "              'max_depth': [9], # up to 16 (8 on gpu)\n",
    "              'grow_policy': ['Lossguide'],\n",
    "              'min_data_in_leaf' : [23], \n",
    "              'max_leaves' : [23],\n",
    "              'iterations' : [100]}\n",
    "\n",
    "cat = CatBoostClassifier(random_state = 20202020, verbose = 0,\n",
    "                         eval_metric = 'AUC:hints=skip_train~false', objective = 'Logloss',\n",
    "                         cat_features = X_catboost.columns.tolist())\n",
    "\n",
    "GRID_cat_seasonal = GridSearchCV(cat, param_grid = cat_params, cv = 5, scoring = 'roc_auc', n_jobs = -1)\n",
    "\n",
    "GRID_cat_seasonal.fit(X_cat_train, y_cat_train)\n",
    "\n",
    "print(\"Ended at\", str(time.ctime(int(time.time()))))\n",
    "print((time.time() - start) / 60, 'minutes')"
   ]
  },
  {
   "cell_type": "code",
   "execution_count": 47,
   "metadata": {},
   "outputs": [
    {
     "name": "stdout",
     "output_type": "stream",
     "text": [
      "AUC for CatBoost seasonal : 0.8610\n",
      "LogLoss for CatBoost seasonal : 0.465\n"
     ]
    },
    {
     "data": {
      "text/html": [
       "<div>\n",
       "<style scoped>\n",
       "    .dataframe tbody tr th:only-of-type {\n",
       "        vertical-align: middle;\n",
       "    }\n",
       "\n",
       "    .dataframe tbody tr th {\n",
       "        vertical-align: top;\n",
       "    }\n",
       "\n",
       "    .dataframe thead th {\n",
       "        text-align: right;\n",
       "    }\n",
       "</style>\n",
       "<table border=\"1\" class=\"dataframe\">\n",
       "  <thead>\n",
       "    <tr style=\"text-align: right;\">\n",
       "      <th></th>\n",
       "      <th>AUC</th>\n",
       "      <th>LogLoss</th>\n",
       "    </tr>\n",
       "  </thead>\n",
       "  <tbody>\n",
       "    <tr>\n",
       "      <th>CatBoost seasonal</th>\n",
       "      <td>0.861</td>\n",
       "      <td>0.465</td>\n",
       "    </tr>\n",
       "  </tbody>\n",
       "</table>\n",
       "</div>"
      ],
      "text/plain": [
       "                     AUC  LogLoss\n",
       "CatBoost seasonal  0.861    0.465"
      ]
     },
     "execution_count": 47,
     "metadata": {},
     "output_type": "execute_result"
    }
   ],
   "source": [
    "evaluate_model('CatBoost seasonal', GRID_cat_seasonal.best_estimator_, X_cat_test, y_cat_test)"
   ]
  },
  {
   "cell_type": "code",
   "execution_count": 65,
   "metadata": {},
   "outputs": [],
   "source": [
    "model_filename = 'models/seasonal_catboost.pkl'\n",
    "with open(model_filename, 'wb') as file:\n",
    "    pickle.dump(GRID_cat_seasonal.best_estimator_, file)"
   ]
  },
  {
   "cell_type": "code",
   "execution_count": null,
   "metadata": {},
   "outputs": [],
   "source": []
  },
  {
   "cell_type": "markdown",
   "metadata": {},
   "source": [
    "#### Make test predictions for 1st submit"
   ]
  },
  {
   "cell_type": "code",
   "execution_count": 57,
   "metadata": {},
   "outputs": [],
   "source": [
    "test = pd.read_csv('../../data/originals/test_catboost.csv')\n",
    "\n",
    "for col in test.dtypes[test.dtypes == 'float64'].index.tolist():\n",
    "    test[col] = test[col].astype(pd.Int64Dtype()).astype('O')\n",
    "    \n",
    "for col in test.columns.tolist():\n",
    "    test[col] = test[col].fillna('None')\n",
    "    \n",
    "respondent_id = test['respondent_id'].copy()\n",
    "test.drop(['respondent_id'], 1, inplace = True)"
   ]
  },
  {
   "cell_type": "code",
   "execution_count": 79,
   "metadata": {},
   "outputs": [
    {
     "data": {
      "text/html": [
       "<div>\n",
       "<style scoped>\n",
       "    .dataframe tbody tr th:only-of-type {\n",
       "        vertical-align: middle;\n",
       "    }\n",
       "\n",
       "    .dataframe tbody tr th {\n",
       "        vertical-align: top;\n",
       "    }\n",
       "\n",
       "    .dataframe thead th {\n",
       "        text-align: right;\n",
       "    }\n",
       "</style>\n",
       "<table border=\"1\" class=\"dataframe\">\n",
       "  <thead>\n",
       "    <tr style=\"text-align: right;\">\n",
       "      <th></th>\n",
       "      <th>respondent_id</th>\n",
       "      <th>h1n1_vaccine</th>\n",
       "      <th>seasonal_vaccine</th>\n",
       "    </tr>\n",
       "  </thead>\n",
       "  <tbody>\n",
       "    <tr>\n",
       "      <th>0</th>\n",
       "      <td>26707</td>\n",
       "      <td>0.121296</td>\n",
       "      <td>0.191064</td>\n",
       "    </tr>\n",
       "    <tr>\n",
       "      <th>1</th>\n",
       "      <td>26708</td>\n",
       "      <td>0.041142</td>\n",
       "      <td>0.050702</td>\n",
       "    </tr>\n",
       "    <tr>\n",
       "      <th>2</th>\n",
       "      <td>26709</td>\n",
       "      <td>0.147760</td>\n",
       "      <td>0.746198</td>\n",
       "    </tr>\n",
       "    <tr>\n",
       "      <th>3</th>\n",
       "      <td>26710</td>\n",
       "      <td>0.620204</td>\n",
       "      <td>0.904706</td>\n",
       "    </tr>\n",
       "    <tr>\n",
       "      <th>4</th>\n",
       "      <td>26711</td>\n",
       "      <td>0.362429</td>\n",
       "      <td>0.567235</td>\n",
       "    </tr>\n",
       "  </tbody>\n",
       "</table>\n",
       "</div>"
      ],
      "text/plain": [
       "   respondent_id  h1n1_vaccine  seasonal_vaccine\n",
       "0          26707      0.121296          0.191064\n",
       "1          26708      0.041142          0.050702\n",
       "2          26709      0.147760          0.746198\n",
       "3          26710      0.620204          0.904706\n",
       "4          26711      0.362429          0.567235"
      ]
     },
     "execution_count": 79,
     "metadata": {},
     "output_type": "execute_result"
    }
   ],
   "source": [
    "submission = pd.DataFrame(respondent_id)\n",
    "submission['h1n1_vaccine'] = GRID_cat.best_estimator_.predict_proba(test)[:,1]\n",
    "submission['seasonal_vaccine'] = GRID_cat_seasonal.best_estimator_.predict_proba(test)[:,1]\n",
    "\n",
    "submission.head()"
   ]
  },
  {
   "cell_type": "code",
   "execution_count": 80,
   "metadata": {},
   "outputs": [],
   "source": [
    "submission.to_csv('../../data/submissions/first_submission_catboost.csv', index = False)"
   ]
  },
  {
   "cell_type": "code",
   "execution_count": null,
   "metadata": {},
   "outputs": [],
   "source": []
  }
 ],
 "metadata": {
  "kernelspec": {
   "display_name": "Python 3",
   "language": "python",
   "name": "python3"
  },
  "language_info": {
   "codemirror_mode": {
    "name": "ipython",
    "version": 3
   },
   "file_extension": ".py",
   "mimetype": "text/x-python",
   "name": "python",
   "nbconvert_exporter": "python",
   "pygments_lexer": "ipython3",
   "version": "3.8.3"
  }
 },
 "nbformat": 4,
 "nbformat_minor": 4
}

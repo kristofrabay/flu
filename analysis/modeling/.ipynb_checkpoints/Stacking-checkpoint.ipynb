{
 "cells": [
  {
   "cell_type": "markdown",
   "metadata": {},
   "source": [
    "## Stacking different models together\n",
    "Using this technique we can hope to achieve better scores "
   ]
  },
  {
   "cell_type": "code",
   "execution_count": 76,
   "metadata": {},
   "outputs": [],
   "source": [
    "import pandas as pd\n",
    "import numpy as np\n",
    "\n",
    "from sklearn.metrics import log_loss, roc_auc_score\n",
    "from sklearn.model_selection import train_test_split, GridSearchCV\n",
    "from sklearn.linear_model import LogisticRegression\n",
    "from sklearn.ensemble import RandomForestClassifier\n",
    "\n",
    "import time\n",
    "import pickle\n",
    "import warnings\n",
    "warnings.filterwarnings('ignore')\n",
    "\n",
    "def evaluate_model(model_name, model, X, y):\n",
    "    \n",
    "    predictions_probas = model.predict_proba(X)[:,1]\n",
    "\n",
    "    AUC = roc_auc_score(y, predictions_probas)\n",
    "    LogLoss = log_loss(y, predictions_probas)\n",
    "\n",
    "    print('AUC for', model_name, ': %1.4f' % AUC)\n",
    "    print('LogLoss for', model_name, ': %1.3f' % LogLoss)\n",
    "\n",
    "    metrics_table = pd.DataFrame({'AUC' : [round(AUC, 4)], 'LogLoss' : [round(LogLoss, 3)]}, index = [model_name])\n",
    "    \n",
    "    return metrics_table"
   ]
  },
  {
   "cell_type": "code",
   "execution_count": 37,
   "metadata": {},
   "outputs": [],
   "source": [
    "paths = {\n",
    "   \n",
    "    'catb_h1n1' : 'models/h1n1_catboost.pkl',\n",
    "    'catb_seas' : 'models/seasonal_catboost.pkl',\n",
    "    'lgb_h1n1_cat' : 'models/h1n1_lighgbm_categoricals.pkl',\n",
    "    'lgb_seas_cat' : 'models/seasonal_lighgbm_categoricals.pkl'\n",
    "    \n",
    "}\n",
    "\n",
    "models = {}\n",
    "\n",
    "for model_name in paths:\n",
    "    path = paths[model_name]\n",
    "    with open(path, 'rb') as file:\n",
    "        models[model_name] = pickle.load(file)"
   ]
  },
  {
   "cell_type": "markdown",
   "metadata": {},
   "source": [
    "#### Functions to prepare test data for predicting on"
   ]
  },
  {
   "cell_type": "code",
   "execution_count": 42,
   "metadata": {},
   "outputs": [],
   "source": [
    "def catboost_prepare(X_):\n",
    "    \n",
    "    X = X_.copy()\n",
    "    \n",
    "    for col in X.dtypes[X.dtypes == 'float64'].index.tolist():\n",
    "        X[col] = X[col].astype(pd.Int64Dtype()).astype('O')\n",
    "\n",
    "    for col in X.columns.tolist():\n",
    "        X[col] = X[col].fillna('None')\n",
    "        \n",
    "    return X\n",
    "\n",
    "\n",
    "def lgb_cat_prepare(X_):\n",
    "    \n",
    "    X = X_.copy()\n",
    "    \n",
    "    for col in X.dtypes[X.dtypes == 'object'].index.tolist():\n",
    "        X[col] = X[col].fillna('None')\n",
    "\n",
    "    for col in X.dtypes[X.dtypes == 'float64'].index.tolist():\n",
    "        X[col] = X[col].fillna(-1).astype(pd.Int64Dtype())\n",
    "\n",
    "    for col in X.columns.tolist():\n",
    "        X[col] = X[col].astype('category')\n",
    "        \n",
    "    return X"
   ]
  },
  {
   "cell_type": "markdown",
   "metadata": {},
   "source": [
    "## Read labeled dataset, use models for predictions, apply stacker\n",
    "### H1N1"
   ]
  },
  {
   "cell_type": "code",
   "execution_count": 86,
   "metadata": {},
   "outputs": [
    {
     "data": {
      "text/html": [
       "<div>\n",
       "<style scoped>\n",
       "    .dataframe tbody tr th:only-of-type {\n",
       "        vertical-align: middle;\n",
       "    }\n",
       "\n",
       "    .dataframe tbody tr th {\n",
       "        vertical-align: top;\n",
       "    }\n",
       "\n",
       "    .dataframe thead th {\n",
       "        text-align: right;\n",
       "    }\n",
       "</style>\n",
       "<table border=\"1\" class=\"dataframe\">\n",
       "  <thead>\n",
       "    <tr style=\"text-align: right;\">\n",
       "      <th></th>\n",
       "      <th>h1n1_catboost</th>\n",
       "      <th>h1n1_lightgbm_categoricals</th>\n",
       "    </tr>\n",
       "  </thead>\n",
       "  <tbody>\n",
       "    <tr>\n",
       "      <th>0</th>\n",
       "      <td>0.038705</td>\n",
       "      <td>0.052832</td>\n",
       "    </tr>\n",
       "    <tr>\n",
       "      <th>1</th>\n",
       "      <td>0.509489</td>\n",
       "      <td>0.436289</td>\n",
       "    </tr>\n",
       "    <tr>\n",
       "      <th>2</th>\n",
       "      <td>0.023477</td>\n",
       "      <td>0.018908</td>\n",
       "    </tr>\n",
       "    <tr>\n",
       "      <th>3</th>\n",
       "      <td>0.040582</td>\n",
       "      <td>0.036509</td>\n",
       "    </tr>\n",
       "    <tr>\n",
       "      <th>4</th>\n",
       "      <td>0.039613</td>\n",
       "      <td>0.036054</td>\n",
       "    </tr>\n",
       "  </tbody>\n",
       "</table>\n",
       "</div>"
      ],
      "text/plain": [
       "   h1n1_catboost  h1n1_lightgbm_categoricals\n",
       "0       0.038705                    0.052832\n",
       "1       0.509489                    0.436289\n",
       "2       0.023477                    0.018908\n",
       "3       0.040582                    0.036509\n",
       "4       0.039613                    0.036054"
      ]
     },
     "execution_count": 86,
     "metadata": {},
     "output_type": "execute_result"
    }
   ],
   "source": [
    "h1n1 = pd.read_csv('../../data/h1n1_catboost.csv')\n",
    "\n",
    "X_h1n1 = h1n1.drop(['h1n1_vaccine'], 1)\n",
    "y_h1n1 = h1n1['h1n1_vaccine'].copy()\n",
    "\n",
    "X_h1n1_catboost = catboost_prepare(X_h1n1)\n",
    "X_h1n1_lgb_cat = lgb_cat_prepare(X_h1n1)\n",
    "\n",
    "h1n1 = pd.DataFrame(models['catb_h1n1'].predict_proba(X_h1n1_catboost)[:,1], columns = ['h1n1_catboost'])\n",
    "h1n1['h1n1_lightgbm_categoricals'] = models['lgb_h1n1_cat'].predict_proba(X_h1n1_lgb_cat)[:,1]\n",
    "\n",
    "h1n1.head()"
   ]
  },
  {
   "cell_type": "code",
   "execution_count": 92,
   "metadata": {},
   "outputs": [
    {
     "name": "stdout",
     "output_type": "stream",
     "text": [
      "0.8674056758389777\n",
      "0.8672860581337819\n",
      "0.8684173542042981\n",
      "0.8676444885719654\n"
     ]
    }
   ],
   "source": [
    "X_train, X_test, y_train, y_test = train_test_split(h1n1, y_h1n1, random_state = 20202020, test_size = 0.2)\n",
    "\n",
    "print(roc_auc_score(y_test, X_test['h1n1_catboost']))\n",
    "print(roc_auc_score(y_test, X_test['h1n1_lightgbm_categoricals']))\n",
    "print(roc_auc_score(y_test, X_test.max(axis = 1)))\n",
    "print(roc_auc_score(y_test, X_test.min(axis = 1)))"
   ]
  },
  {
   "cell_type": "code",
   "execution_count": 88,
   "metadata": {},
   "outputs": [
    {
     "name": "stdout",
     "output_type": "stream",
     "text": [
      "AUC for Stacking H1N1 : 0.8528\n",
      "LogLoss for Stacking H1N1 : 0.382\n"
     ]
    },
    {
     "data": {
      "text/html": [
       "<div>\n",
       "<style scoped>\n",
       "    .dataframe tbody tr th:only-of-type {\n",
       "        vertical-align: middle;\n",
       "    }\n",
       "\n",
       "    .dataframe tbody tr th {\n",
       "        vertical-align: top;\n",
       "    }\n",
       "\n",
       "    .dataframe thead th {\n",
       "        text-align: right;\n",
       "    }\n",
       "</style>\n",
       "<table border=\"1\" class=\"dataframe\">\n",
       "  <thead>\n",
       "    <tr style=\"text-align: right;\">\n",
       "      <th></th>\n",
       "      <th>AUC</th>\n",
       "      <th>LogLoss</th>\n",
       "    </tr>\n",
       "  </thead>\n",
       "  <tbody>\n",
       "    <tr>\n",
       "      <th>Stacking H1N1</th>\n",
       "      <td>0.8528</td>\n",
       "      <td>0.382</td>\n",
       "    </tr>\n",
       "  </tbody>\n",
       "</table>\n",
       "</div>"
      ],
      "text/plain": [
       "                  AUC  LogLoss\n",
       "Stacking H1N1  0.8528    0.382"
      ]
     },
     "execution_count": 88,
     "metadata": {},
     "output_type": "execute_result"
    }
   ],
   "source": [
    "h1n1_stacker = LogisticRegression()\n",
    "h1n1_stacker.fit(X_train, y_train)\n",
    "\n",
    "evaluate_model('Stacking H1N1', h1n1_stacker, X_test, y_test)"
   ]
  },
  {
   "cell_type": "code",
   "execution_count": null,
   "metadata": {},
   "outputs": [],
   "source": []
  },
  {
   "cell_type": "markdown",
   "metadata": {},
   "source": [
    "Let's try taking the max predicted value for now as its AUC is better than stacking"
   ]
  },
  {
   "cell_type": "code",
   "execution_count": null,
   "metadata": {},
   "outputs": [],
   "source": []
  },
  {
   "cell_type": "markdown",
   "metadata": {},
   "source": [
    "### Seasonal"
   ]
  },
  {
   "cell_type": "code",
   "execution_count": 93,
   "metadata": {},
   "outputs": [
    {
     "data": {
      "text/html": [
       "<div>\n",
       "<style scoped>\n",
       "    .dataframe tbody tr th:only-of-type {\n",
       "        vertical-align: middle;\n",
       "    }\n",
       "\n",
       "    .dataframe tbody tr th {\n",
       "        vertical-align: top;\n",
       "    }\n",
       "\n",
       "    .dataframe thead th {\n",
       "        text-align: right;\n",
       "    }\n",
       "</style>\n",
       "<table border=\"1\" class=\"dataframe\">\n",
       "  <thead>\n",
       "    <tr style=\"text-align: right;\">\n",
       "      <th></th>\n",
       "      <th>seasonal_catboost</th>\n",
       "      <th>seasonal_lightgbm_categoricals</th>\n",
       "    </tr>\n",
       "  </thead>\n",
       "  <tbody>\n",
       "    <tr>\n",
       "      <th>0</th>\n",
       "      <td>0.070242</td>\n",
       "      <td>0.065949</td>\n",
       "    </tr>\n",
       "    <tr>\n",
       "      <th>1</th>\n",
       "      <td>0.141779</td>\n",
       "      <td>0.157418</td>\n",
       "    </tr>\n",
       "    <tr>\n",
       "      <th>2</th>\n",
       "      <td>0.077667</td>\n",
       "      <td>0.098619</td>\n",
       "    </tr>\n",
       "    <tr>\n",
       "      <th>3</th>\n",
       "      <td>0.884547</td>\n",
       "      <td>0.901017</td>\n",
       "    </tr>\n",
       "    <tr>\n",
       "      <th>4</th>\n",
       "      <td>0.126142</td>\n",
       "      <td>0.117315</td>\n",
       "    </tr>\n",
       "  </tbody>\n",
       "</table>\n",
       "</div>"
      ],
      "text/plain": [
       "   seasonal_catboost  seasonal_lightgbm_categoricals\n",
       "0           0.070242                        0.065949\n",
       "1           0.141779                        0.157418\n",
       "2           0.077667                        0.098619\n",
       "3           0.884547                        0.901017\n",
       "4           0.126142                        0.117315"
      ]
     },
     "execution_count": 93,
     "metadata": {},
     "output_type": "execute_result"
    }
   ],
   "source": [
    "seasonal = pd.read_csv('../../data/seasonal_catboost.csv')\n",
    "\n",
    "X_seasonal = seasonal.drop(['seasonal_vaccine'], 1)\n",
    "y_seasonal = seasonal['seasonal_vaccine'].copy()\n",
    "\n",
    "X_seasonal_catboost = catboost_prepare(X_seasonal)\n",
    "X_seasonal_lgb_cat = lgb_cat_prepare(X_seasonal)\n",
    "\n",
    "seasonal = pd.DataFrame(models['catb_seas'].predict_proba(X_seasonal_catboost)[:,1], columns = ['seasonal_catboost'])\n",
    "seasonal['seasonal_lightgbm_categoricals'] = models['lgb_seas_cat'].predict_proba(X_seasonal_lgb_cat)[:,1]\n",
    "\n",
    "seasonal.head()"
   ]
  },
  {
   "cell_type": "code",
   "execution_count": 94,
   "metadata": {},
   "outputs": [
    {
     "name": "stdout",
     "output_type": "stream",
     "text": [
      "0.8610109270507117\n",
      "0.8616528320532837\n",
      "0.8622560986615887\n",
      "0.8616618570796819\n"
     ]
    }
   ],
   "source": [
    "X_train, X_test, y_train, y_test = train_test_split(seasonal, y_seasonal, random_state = 20202020, test_size = 0.2)\n",
    "\n",
    "print(roc_auc_score(y_test, X_test['seasonal_catboost']))\n",
    "print(roc_auc_score(y_test, X_test['seasonal_lightgbm_categoricals']))\n",
    "print(roc_auc_score(y_test, X_test.max(axis = 1)))\n",
    "print(roc_auc_score(y_test, X_test.min(axis = 1)))"
   ]
  },
  {
   "cell_type": "code",
   "execution_count": null,
   "metadata": {},
   "outputs": [],
   "source": []
  },
  {
   "cell_type": "markdown",
   "metadata": {},
   "source": [
    "Take the max here too"
   ]
  },
  {
   "cell_type": "code",
   "execution_count": null,
   "metadata": {},
   "outputs": [],
   "source": []
  },
  {
   "cell_type": "code",
   "execution_count": null,
   "metadata": {},
   "outputs": [],
   "source": []
  },
  {
   "cell_type": "markdown",
   "metadata": {},
   "source": [
    "## Read in test and process for predictions"
   ]
  },
  {
   "cell_type": "code",
   "execution_count": 95,
   "metadata": {},
   "outputs": [],
   "source": [
    "test = pd.read_csv('../../data/originals/test_catboost.csv')\n",
    "respondent_id = test['respondent_id'].copy()\n",
    "test.drop(['respondent_id'], 1, inplace = True)\n",
    "\n",
    "test_catboost = catboost_prepare(test)\n",
    "test_lgb = lgb_cat_prepare(test)"
   ]
  },
  {
   "cell_type": "markdown",
   "metadata": {},
   "source": [
    "#### Make predictions\n",
    "H1N1"
   ]
  },
  {
   "cell_type": "code",
   "execution_count": 96,
   "metadata": {},
   "outputs": [
    {
     "data": {
      "text/html": [
       "<div>\n",
       "<style scoped>\n",
       "    .dataframe tbody tr th:only-of-type {\n",
       "        vertical-align: middle;\n",
       "    }\n",
       "\n",
       "    .dataframe tbody tr th {\n",
       "        vertical-align: top;\n",
       "    }\n",
       "\n",
       "    .dataframe thead th {\n",
       "        text-align: right;\n",
       "    }\n",
       "</style>\n",
       "<table border=\"1\" class=\"dataframe\">\n",
       "  <thead>\n",
       "    <tr style=\"text-align: right;\">\n",
       "      <th></th>\n",
       "      <th>h1n1_catboost</th>\n",
       "      <th>h1n1_lightgbm_categoricals</th>\n",
       "    </tr>\n",
       "  </thead>\n",
       "  <tbody>\n",
       "    <tr>\n",
       "      <th>0</th>\n",
       "      <td>0.121296</td>\n",
       "      <td>0.155108</td>\n",
       "    </tr>\n",
       "    <tr>\n",
       "      <th>1</th>\n",
       "      <td>0.041142</td>\n",
       "      <td>0.075113</td>\n",
       "    </tr>\n",
       "    <tr>\n",
       "      <th>2</th>\n",
       "      <td>0.147760</td>\n",
       "      <td>0.212651</td>\n",
       "    </tr>\n",
       "    <tr>\n",
       "      <th>3</th>\n",
       "      <td>0.620204</td>\n",
       "      <td>0.671908</td>\n",
       "    </tr>\n",
       "    <tr>\n",
       "      <th>4</th>\n",
       "      <td>0.362429</td>\n",
       "      <td>0.378022</td>\n",
       "    </tr>\n",
       "  </tbody>\n",
       "</table>\n",
       "</div>"
      ],
      "text/plain": [
       "   h1n1_catboost  h1n1_lightgbm_categoricals\n",
       "0       0.121296                    0.155108\n",
       "1       0.041142                    0.075113\n",
       "2       0.147760                    0.212651\n",
       "3       0.620204                    0.671908\n",
       "4       0.362429                    0.378022"
      ]
     },
     "execution_count": 96,
     "metadata": {},
     "output_type": "execute_result"
    }
   ],
   "source": [
    "h1n1 = pd.DataFrame(models['catb_h1n1'].predict_proba(test_catboost)[:,1], columns = ['h1n1_catboost'])\n",
    "h1n1['h1n1_lightgbm_categoricals'] = models['lgb_h1n1_cat'].predict_proba(test_lgb)[:,1]\n",
    "\n",
    "h1n1.head()"
   ]
  },
  {
   "cell_type": "markdown",
   "metadata": {},
   "source": [
    "Seasonal"
   ]
  },
  {
   "cell_type": "code",
   "execution_count": 97,
   "metadata": {},
   "outputs": [
    {
     "data": {
      "text/html": [
       "<div>\n",
       "<style scoped>\n",
       "    .dataframe tbody tr th:only-of-type {\n",
       "        vertical-align: middle;\n",
       "    }\n",
       "\n",
       "    .dataframe tbody tr th {\n",
       "        vertical-align: top;\n",
       "    }\n",
       "\n",
       "    .dataframe thead th {\n",
       "        text-align: right;\n",
       "    }\n",
       "</style>\n",
       "<table border=\"1\" class=\"dataframe\">\n",
       "  <thead>\n",
       "    <tr style=\"text-align: right;\">\n",
       "      <th></th>\n",
       "      <th>seasonal_catboost</th>\n",
       "      <th>seasonal_lightgbm_categoricals</th>\n",
       "    </tr>\n",
       "  </thead>\n",
       "  <tbody>\n",
       "    <tr>\n",
       "      <th>0</th>\n",
       "      <td>0.191064</td>\n",
       "      <td>0.268159</td>\n",
       "    </tr>\n",
       "    <tr>\n",
       "      <th>1</th>\n",
       "      <td>0.050702</td>\n",
       "      <td>0.033132</td>\n",
       "    </tr>\n",
       "    <tr>\n",
       "      <th>2</th>\n",
       "      <td>0.746198</td>\n",
       "      <td>0.714583</td>\n",
       "    </tr>\n",
       "    <tr>\n",
       "      <th>3</th>\n",
       "      <td>0.904706</td>\n",
       "      <td>0.902284</td>\n",
       "    </tr>\n",
       "    <tr>\n",
       "      <th>4</th>\n",
       "      <td>0.567235</td>\n",
       "      <td>0.397910</td>\n",
       "    </tr>\n",
       "  </tbody>\n",
       "</table>\n",
       "</div>"
      ],
      "text/plain": [
       "   seasonal_catboost  seasonal_lightgbm_categoricals\n",
       "0           0.191064                        0.268159\n",
       "1           0.050702                        0.033132\n",
       "2           0.746198                        0.714583\n",
       "3           0.904706                        0.902284\n",
       "4           0.567235                        0.397910"
      ]
     },
     "execution_count": 97,
     "metadata": {},
     "output_type": "execute_result"
    }
   ],
   "source": [
    "seasonal = pd.DataFrame(models['catb_seas'].predict_proba(test_catboost)[:,1], columns = ['seasonal_catboost'])\n",
    "seasonal['seasonal_lightgbm_categoricals'] = models['lgb_seas_cat'].predict_proba(test_lgb)[:,1]\n",
    "\n",
    "seasonal.head()"
   ]
  },
  {
   "cell_type": "code",
   "execution_count": null,
   "metadata": {},
   "outputs": [],
   "source": []
  },
  {
   "cell_type": "markdown",
   "metadata": {},
   "source": [
    "#### Put together submission file by taking max of CatBoost / LightGBM predictions"
   ]
  },
  {
   "cell_type": "code",
   "execution_count": 100,
   "metadata": {},
   "outputs": [
    {
     "data": {
      "text/html": [
       "<div>\n",
       "<style scoped>\n",
       "    .dataframe tbody tr th:only-of-type {\n",
       "        vertical-align: middle;\n",
       "    }\n",
       "\n",
       "    .dataframe tbody tr th {\n",
       "        vertical-align: top;\n",
       "    }\n",
       "\n",
       "    .dataframe thead th {\n",
       "        text-align: right;\n",
       "    }\n",
       "</style>\n",
       "<table border=\"1\" class=\"dataframe\">\n",
       "  <thead>\n",
       "    <tr style=\"text-align: right;\">\n",
       "      <th></th>\n",
       "      <th>respondent_id</th>\n",
       "      <th>h1n1_vaccine</th>\n",
       "      <th>seasonal_vaccine</th>\n",
       "    </tr>\n",
       "  </thead>\n",
       "  <tbody>\n",
       "    <tr>\n",
       "      <th>0</th>\n",
       "      <td>26707</td>\n",
       "      <td>0.155108</td>\n",
       "      <td>0.268159</td>\n",
       "    </tr>\n",
       "    <tr>\n",
       "      <th>1</th>\n",
       "      <td>26708</td>\n",
       "      <td>0.075113</td>\n",
       "      <td>0.050702</td>\n",
       "    </tr>\n",
       "    <tr>\n",
       "      <th>2</th>\n",
       "      <td>26709</td>\n",
       "      <td>0.212651</td>\n",
       "      <td>0.746198</td>\n",
       "    </tr>\n",
       "    <tr>\n",
       "      <th>3</th>\n",
       "      <td>26710</td>\n",
       "      <td>0.671908</td>\n",
       "      <td>0.904706</td>\n",
       "    </tr>\n",
       "    <tr>\n",
       "      <th>4</th>\n",
       "      <td>26711</td>\n",
       "      <td>0.378022</td>\n",
       "      <td>0.567235</td>\n",
       "    </tr>\n",
       "  </tbody>\n",
       "</table>\n",
       "</div>"
      ],
      "text/plain": [
       "   respondent_id  h1n1_vaccine  seasonal_vaccine\n",
       "0          26707      0.155108          0.268159\n",
       "1          26708      0.075113          0.050702\n",
       "2          26709      0.212651          0.746198\n",
       "3          26710      0.671908          0.904706\n",
       "4          26711      0.378022          0.567235"
      ]
     },
     "execution_count": 100,
     "metadata": {},
     "output_type": "execute_result"
    }
   ],
   "source": [
    "submission = pd.DataFrame(respondent_id)\n",
    "submission['h1n1_vaccine'] = h1n1.max(axis = 1)\n",
    "submission['seasonal_vaccine'] = seasonal.max(axis = 1)\n",
    "\n",
    "submission.head()"
   ]
  },
  {
   "cell_type": "code",
   "execution_count": 101,
   "metadata": {},
   "outputs": [],
   "source": [
    "submission.to_csv('../../data/submissions/catboost_lighgbm_max.csv', index = False)"
   ]
  }
 ],
 "metadata": {
  "kernelspec": {
   "display_name": "Python 3",
   "language": "python",
   "name": "python3"
  },
  "language_info": {
   "codemirror_mode": {
    "name": "ipython",
    "version": 3
   },
   "file_extension": ".py",
   "mimetype": "text/x-python",
   "name": "python",
   "nbconvert_exporter": "python",
   "pygments_lexer": "ipython3",
   "version": "3.8.3"
  }
 },
 "nbformat": 4,
 "nbformat_minor": 4
}
